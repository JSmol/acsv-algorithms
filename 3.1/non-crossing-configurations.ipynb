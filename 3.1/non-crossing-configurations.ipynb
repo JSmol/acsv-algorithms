{
 "cells": [
  {
   "cell_type": "markdown",
   "id": "0b2c6935-49ef-4fe7-839c-3406a1ab65ae",
   "metadata": {},
   "source": [
    "# Non-Crossing Configurations\n",
    "Converting Example VII.16 from Analytic Combinatorics by Flajolet and Sedgewick to rational bivariate generating functions."
   ]
  },
  {
   "cell_type": "code",
   "execution_count": 1,
   "id": "e8213afa-bf6f-48b9-bd96-b543e8a77b2c",
   "metadata": {},
   "outputs": [],
   "source": [
    "R = PolynomialRing(QQ, 'y, z')\n",
    "y, z = R.gens()"
   ]
  },
  {
   "cell_type": "code",
   "execution_count": 2,
   "id": "eb2da6b1-44ba-4052-9d01-5ffb83aabd83",
   "metadata": {},
   "outputs": [],
   "source": [
    "# finite height function implemented exactly as is on page 85\n",
    "def finite_height(H, r=1, s=1):\n",
    "    P = H.newton_polytope()\n",
    "    vertices = P.vertices()\n",
    "    vertices = list(map(vector, vertices))\n",
    "    for j, vj in enumerate(vertices):\n",
    "        on_line = negative = positive = False\n",
    "        for k, vk in enumerate(vertices):\n",
    "            if j == k: continue\n",
    "            position = (vj - vk).dot_product(vector([-s, r]))\n",
    "            if position == 0: on_line = True\n",
    "            if position < 0: negative = True\n",
    "            if position > 0: positive = True\n",
    "        # there is a vk such that the line vj -> vk has slope -s/r and\n",
    "        # the remainder of the polygon is on one side of the line\n",
    "        if on_line and not (negative and positive):\n",
    "            return True\n",
    "    return False"
   ]
  },
  {
   "cell_type": "markdown",
   "id": "a9892bc3-77ec-4817-8797-efe534f04ebf",
   "metadata": {
    "tags": []
   },
   "source": [
    "## non-crossing trees"
   ]
  },
  {
   "cell_type": "code",
   "execution_count": 3,
   "id": "b2c920e2-d298-4746-a06e-cc367e9d2607",
   "metadata": {
    "tags": []
   },
   "outputs": [
    {
     "data": {
      "text/html": [
       "<html><script type=\"math/tex; mode=display\">\\newcommand{\\Bold}[1]{\\mathbf{#1}}-27 z^{4} + 4 z^{3}</script></html>"
      ],
      "text/latex": [
       "$$\\newcommand{\\Bold}[1]{\\mathbf{#1}}-27 z^{4} + 4 z^{3}$$"
      ],
      "text/plain": [
       "-27*z^4 + 4*z^3"
      ]
     },
     "metadata": {},
     "output_type": "display_data"
    },
    {
     "data": {
      "text/html": [
       "<html><script type=\"math/tex; mode=display\">\\newcommand{\\Bold}[1]{\\mathbf{#1}}3 y^{2} - z</script></html>"
      ],
      "text/latex": [
       "$$\\newcommand{\\Bold}[1]{\\mathbf{#1}}3 y^{2} - z$$"
      ],
      "text/plain": [
       "3*y^2 - z"
      ]
     },
     "metadata": {},
     "output_type": "display_data"
    }
   ],
   "source": [
    "P = y^3 - z*y + z^2 \n",
    "show(P.discriminant(y))\n",
    "show(P.derivative(y))"
   ]
  },
  {
   "cell_type": "code",
   "execution_count": 4,
   "id": "5d559b1e-a857-481d-9c65-2db7de5e59cb",
   "metadata": {},
   "outputs": [
    {
     "data": {
      "text/html": [
       "<html><script type=\"math/tex; mode=display\">\\newcommand{\\Bold}[1]{\\mathbf{#1}}y^{3} z^{5} + 9 y^{2} z^{5} + 3 y^{2} z^{4} + 27 y z^{5} + 3 y^{2} z^{3} + 18 y z^{4} + 27 z^{5} + 21 y z^{3} + 27 z^{4} + 6 y z^{2} + 36 z^{3} + 3 y z + 19 z^{2} - y + 12 z</script></html>"
      ],
      "text/latex": [
       "$$\\newcommand{\\Bold}[1]{\\mathbf{#1}}y^{3} z^{5} + 9 y^{2} z^{5} + 3 y^{2} z^{4} + 27 y z^{5} + 3 y^{2} z^{3} + 18 y z^{4} + 27 z^{5} + 21 y z^{3} + 27 z^{4} + 6 y z^{2} + 36 z^{3} + 3 y z + 19 z^{2} - y + 12 z$$"
      ],
      "text/plain": [
       "y^3*z^5 + 9*y^2*z^5 + 3*y^2*z^4 + 27*y*z^5 + 3*y^2*z^3 + 18*y*z^4 + 27*z^5 + 21*y*z^3 + 27*z^4 + 6*y*z^2 + 36*z^3 + 3*y*z + 19*z^2 - y + 12*z"
      ]
     },
     "metadata": {},
     "output_type": "display_data"
    },
    {
     "data": {
      "text/html": [
       "<html><script type=\"math/tex; mode=display\">\\newcommand{\\Bold}[1]{\\mathbf{#1}}3 y^{2} z^{5} + 18 y z^{5} + 6 y z^{4} + 27 z^{5} + 6 y z^{3} + 18 z^{4} + 21 z^{3} + 6 z^{2} + 3 z - 1</script></html>"
      ],
      "text/latex": [
       "$$\\newcommand{\\Bold}[1]{\\mathbf{#1}}3 y^{2} z^{5} + 18 y z^{5} + 6 y z^{4} + 27 z^{5} + 6 y z^{3} + 18 z^{4} + 21 z^{3} + 6 z^{2} + 3 z - 1$$"
      ],
      "text/plain": [
       "3*y^2*z^5 + 18*y*z^5 + 6*y*z^4 + 27*z^5 + 6*y*z^3 + 18*z^4 + 21*z^3 + 6*z^2 + 3*z - 1"
      ]
     },
     "metadata": {},
     "output_type": "display_data"
    }
   ],
   "source": [
    "# the GF starts: z + z^2 + 3z^2 + ...\n",
    "Q = simplify(P.subs(y = z + z^2 + 3*z^3 + z^3*y) / z^4)\n",
    "show(Q)\n",
    "show(Q.derivative(y))"
   ]
  },
  {
   "cell_type": "code",
   "execution_count": 5,
   "id": "c5d64313-25c4-4299-8344-fac1ad45125d",
   "metadata": {},
   "outputs": [
    {
     "name": "stdout",
     "output_type": "stream",
     "text": [
      "(3*y^8*z^5 + 18*y^7*z^5 + 27*y^6*z^5 + 6*y^6*z^4 + 18*y^5*z^4 + 6*y^5*z^3 + 21*y^4*z^3 + 6*y^3*z^2 + 3*y^2*z - y)/(y^7*z^5 + 9*y^6*z^5 + 27*y^5*z^5 + 3*y^5*z^4 + 27*y^4*z^5 + 18*y^4*z^4 + 3*y^4*z^3 + 27*y^3*z^4 + 21*y^3*z^3 + 36*y^2*z^3 + 6*y^2*z^2 + 19*y*z^2 + 3*y*z + 12*z - 1)\n"
     ]
    },
    {
     "data": {
      "text/html": [
       "<html><script type=\"math/tex; mode=display\">\\newcommand{\\Bold}[1]{\\mathbf{#1}}\\frac{3 y^{8} z^{5} + 18 y^{7} z^{5} + 27 y^{6} z^{5} + 6 y^{6} z^{4} + 18 y^{5} z^{4} + 6 y^{5} z^{3} + 21 y^{4} z^{3} + 6 y^{3} z^{2} + 3 y^{2} z - y}{y^{7} z^{5} + 9 y^{6} z^{5} + 27 y^{5} z^{5} + 3 y^{5} z^{4} + 27 y^{4} z^{5} + 18 y^{4} z^{4} + 3 y^{4} z^{3} + 27 y^{3} z^{4} + 21 y^{3} z^{3} + 36 y^{2} z^{3} + 6 y^{2} z^{2} + 19 y z^{2} + 3 y z + 12 z - 1}</script></html>"
      ],
      "text/latex": [
       "$$\\newcommand{\\Bold}[1]{\\mathbf{#1}}\\frac{3 y^{8} z^{5} + 18 y^{7} z^{5} + 27 y^{6} z^{5} + 6 y^{6} z^{4} + 18 y^{5} z^{4} + 6 y^{5} z^{3} + 21 y^{4} z^{3} + 6 y^{3} z^{2} + 3 y^{2} z - y}{y^{7} z^{5} + 9 y^{6} z^{5} + 27 y^{5} z^{5} + 3 y^{5} z^{4} + 27 y^{4} z^{5} + 18 y^{4} z^{4} + 3 y^{4} z^{3} + 27 y^{3} z^{4} + 21 y^{3} z^{3} + 36 y^{2} z^{3} + 6 y^{2} z^{2} + 19 y z^{2} + 3 y z + 12 z - 1}$$"
      ],
      "text/plain": [
       "(3*y^8*z^5 + 18*y^7*z^5 + 27*y^6*z^5 + 6*y^6*z^4 + 18*y^5*z^4 + 6*y^5*z^3 + 21*y^4*z^3 + 6*y^3*z^2 + 3*y^2*z - y)/(y^7*z^5 + 9*y^6*z^5 + 27*y^5*z^5 + 3*y^5*z^4 + 27*y^4*z^5 + 18*y^4*z^4 + 3*y^4*z^3 + 27*y^3*z^4 + 21*y^3*z^3 + 36*y^2*z^3 + 6*y^2*z^2 + 19*y*z^2 + 3*y*z + 12*z - 1)"
      ]
     },
     "metadata": {},
     "output_type": "display_data"
    }
   ],
   "source": [
    "F = y^2 * Q.derivative(y).subs(z = y*z) / Q.subs(z = y*z)\n",
    "print(F)\n",
    "show(F)"
   ]
  },
  {
   "cell_type": "code",
   "execution_count": 6,
   "id": "e0f331b3-9a1f-451d-8513-3a4983079058",
   "metadata": {},
   "outputs": [
    {
     "name": "stdout",
     "output_type": "stream",
     "text": [
      "True\n",
      "1\n",
      "True\n"
     ]
    },
    {
     "data": {
      "image/png": "[encoded data removed]",
      "text/plain": [
       "A 2-dimensional polyhedron in ZZ^2 defined as the convex hull of 4 vertices"
      ]
     },
     "execution_count": 6,
     "metadata": {},
     "output_type": "execute_result"
    }
   ],
   "source": [
    "print(F.denominator().is_squarefree())\n",
    "print(gcd(F.denominator(), F.numerator()))\n",
    "print(finite_height(F.denominator()))\n",
    "F.denominator().newton_polytope()"
   ]
  },
  {
   "cell_type": "markdown",
   "id": "6a3db6da-07b6-46c8-98a6-1fbfb1aa1839",
   "metadata": {},
   "source": [
    "## non-crossing forests"
   ]
  },
  {
   "cell_type": "code",
   "execution_count": 7,
   "id": "a5e53b79-96a1-4860-b03c-6d63431e8076",
   "metadata": {},
   "outputs": [
    {
     "data": {
      "text/html": [
       "<html><script type=\"math/tex; mode=display\">\\newcommand{\\Bold}[1]{\\mathbf{#1}}5 z^{6} - 8 z^{5} - 32 z^{4} + 4 z^{3}</script></html>"
      ],
      "text/latex": [
       "$$\\newcommand{\\Bold}[1]{\\mathbf{#1}}5 z^{6} - 8 z^{5} - 32 z^{4} + 4 z^{3}$$"
      ],
      "text/plain": [
       "5*z^6 - 8*z^5 - 32*z^4 + 4*z^3"
      ]
     },
     "metadata": {},
     "output_type": "display_data"
    },
    {
     "data": {
      "text/html": [
       "<html><script type=\"math/tex; mode=display\">\\newcommand{\\Bold}[1]{\\mathbf{#1}}2 y z^{2} + 3 y^{2} - 2 y z - 6 y + z + 3</script></html>"
      ],
      "text/latex": [
       "$$\\newcommand{\\Bold}[1]{\\mathbf{#1}}2 y z^{2} + 3 y^{2} - 2 y z - 6 y + z + 3$$"
      ],
      "text/plain": [
       "2*y*z^2 + 3*y^2 - 2*y*z - 6*y + z + 3"
      ]
     },
     "metadata": {},
     "output_type": "display_data"
    }
   ],
   "source": [
    "P = y^3 + (z^2-z-3)*y^2 + (z+3)*y - 1\n",
    "show(P.discriminant(y))\n",
    "show(P.derivative(y))"
   ]
  },
  {
   "cell_type": "code",
   "execution_count": 8,
   "id": "8be75a15-aaa6-4da1-9690-0e328ba82132",
   "metadata": {},
   "outputs": [
    {
     "data": {
      "text/html": [
       "<html><script type=\"math/tex; mode=display\">\\newcommand{\\Bold}[1]{\\mathbf{#1}}y^{3} z^{5} + 21 y^{2} z^{5} + 7 y^{2} z^{4} + 147 y z^{5} + 2 y^{2} z^{3} + 98 y z^{4} + 343 z^{5} + 44 y z^{3} + 343 z^{4} + 10 y z^{2} + 210 z^{3} + 3 y z + 82 z^{2} - y + 33 z</script></html>"
      ],
      "text/latex": [
       "$$\\newcommand{\\Bold}[1]{\\mathbf{#1}}y^{3} z^{5} + 21 y^{2} z^{5} + 7 y^{2} z^{4} + 147 y z^{5} + 2 y^{2} z^{3} + 98 y z^{4} + 343 z^{5} + 44 y z^{3} + 343 z^{4} + 10 y z^{2} + 210 z^{3} + 3 y z + 82 z^{2} - y + 33 z$$"
      ],
      "text/plain": [
       "y^3*z^5 + 21*y^2*z^5 + 7*y^2*z^4 + 147*y*z^5 + 2*y^2*z^3 + 98*y*z^4 + 343*z^5 + 44*y*z^3 + 343*z^4 + 10*y*z^2 + 210*z^3 + 3*y*z + 82*z^2 - y + 33*z"
      ]
     },
     "metadata": {},
     "output_type": "display_data"
    },
    {
     "data": {
      "text/html": [
       "<html><script type=\"math/tex; mode=display\">\\newcommand{\\Bold}[1]{\\mathbf{#1}}3 y^{2} z^{5} + 42 y z^{5} + 14 y z^{4} + 147 z^{5} + 4 y z^{3} + 98 z^{4} + 44 z^{3} + 10 z^{2} + 3 z - 1</script></html>"
      ],
      "text/latex": [
       "$$\\newcommand{\\Bold}[1]{\\mathbf{#1}}3 y^{2} z^{5} + 42 y z^{5} + 14 y z^{4} + 147 z^{5} + 4 y z^{3} + 98 z^{4} + 44 z^{3} + 10 z^{2} + 3 z - 1$$"
      ],
      "text/plain": [
       "3*y^2*z^5 + 42*y*z^5 + 14*y*z^4 + 147*z^5 + 4*y*z^3 + 98*z^4 + 44*z^3 + 10*z^2 + 3*z - 1"
      ]
     },
     "metadata": {},
     "output_type": "display_data"
    }
   ],
   "source": [
    "# the GF starts: 1 + z + 2z^2 + 7z^3 + ...\n",
    "Q = simplify(P.subs(y = 1 + z + 2*z^2 + 7*z^3 + z^3*y) / z^4)\n",
    "show(Q)\n",
    "show(Q.derivative(y))"
   ]
  },
  {
   "cell_type": "code",
   "execution_count": 9,
   "id": "a24248bf-7be6-450c-820b-0d4d01b42849",
   "metadata": {},
   "outputs": [
    {
     "name": "stdout",
     "output_type": "stream",
     "text": [
      "(3*y^8*z^5 + 42*y^7*z^5 + 147*y^6*z^5 + 14*y^6*z^4 + 98*y^5*z^4 + 4*y^5*z^3 + 44*y^4*z^3 + 10*y^3*z^2 + 3*y^2*z - y)/(y^7*z^5 + 21*y^6*z^5 + 147*y^5*z^5 + 7*y^5*z^4 + 343*y^4*z^5 + 98*y^4*z^4 + 2*y^4*z^3 + 343*y^3*z^4 + 44*y^3*z^3 + 210*y^2*z^3 + 10*y^2*z^2 + 82*y*z^2 + 3*y*z + 33*z - 1)\n"
     ]
    },
    {
     "data": {
      "text/html": [
       "<html><script type=\"math/tex; mode=display\">\\newcommand{\\Bold}[1]{\\mathbf{#1}}\\frac{3 y^{8} z^{5} + 42 y^{7} z^{5} + 147 y^{6} z^{5} + 14 y^{6} z^{4} + 98 y^{5} z^{4} + 4 y^{5} z^{3} + 44 y^{4} z^{3} + 10 y^{3} z^{2} + 3 y^{2} z - y}{y^{7} z^{5} + 21 y^{6} z^{5} + 147 y^{5} z^{5} + 7 y^{5} z^{4} + 343 y^{4} z^{5} + 98 y^{4} z^{4} + 2 y^{4} z^{3} + 343 y^{3} z^{4} + 44 y^{3} z^{3} + 210 y^{2} z^{3} + 10 y^{2} z^{2} + 82 y z^{2} + 3 y z + 33 z - 1}</script></html>"
      ],
      "text/latex": [
       "$$\\newcommand{\\Bold}[1]{\\mathbf{#1}}\\frac{3 y^{8} z^{5} + 42 y^{7} z^{5} + 147 y^{6} z^{5} + 14 y^{6} z^{4} + 98 y^{5} z^{4} + 4 y^{5} z^{3} + 44 y^{4} z^{3} + 10 y^{3} z^{2} + 3 y^{2} z - y}{y^{7} z^{5} + 21 y^{6} z^{5} + 147 y^{5} z^{5} + 7 y^{5} z^{4} + 343 y^{4} z^{5} + 98 y^{4} z^{4} + 2 y^{4} z^{3} + 343 y^{3} z^{4} + 44 y^{3} z^{3} + 210 y^{2} z^{3} + 10 y^{2} z^{2} + 82 y z^{2} + 3 y z + 33 z - 1}$$"
      ],
      "text/plain": [
       "(3*y^8*z^5 + 42*y^7*z^5 + 147*y^6*z^5 + 14*y^6*z^4 + 98*y^5*z^4 + 4*y^5*z^3 + 44*y^4*z^3 + 10*y^3*z^2 + 3*y^2*z - y)/(y^7*z^5 + 21*y^6*z^5 + 147*y^5*z^5 + 7*y^5*z^4 + 343*y^4*z^5 + 98*y^4*z^4 + 2*y^4*z^3 + 343*y^3*z^4 + 44*y^3*z^3 + 210*y^2*z^3 + 10*y^2*z^2 + 82*y*z^2 + 3*y*z + 33*z - 1)"
      ]
     },
     "metadata": {},
     "output_type": "display_data"
    }
   ],
   "source": [
    "F = y^2 * Q.derivative(y).subs(z = y*z) / Q.subs(z = y*z)\n",
    "print(F)\n",
    "show(F)"
   ]
  },
  {
   "cell_type": "code",
   "execution_count": 10,
   "id": "3635e934-5c81-4d37-89dd-3d83c3511628",
   "metadata": {},
   "outputs": [
    {
     "name": "stdout",
     "output_type": "stream",
     "text": [
      "True\n",
      "1\n",
      "True\n"
     ]
    },
    {
     "data": {
      "image/png": "[encoded data removed]",
      "text/plain": [
       "A 2-dimensional polyhedron in ZZ^2 defined as the convex hull of 4 vertices"
      ]
     },
     "execution_count": 10,
     "metadata": {},
     "output_type": "execute_result"
    }
   ],
   "source": [
    "print(F.denominator().is_squarefree())\n",
    "print(gcd(F.denominator(), F.numerator()))\n",
    "print(finite_height(F.denominator()))\n",
    "F.denominator().newton_polytope()"
   ]
  },
  {
   "cell_type": "markdown",
   "id": "151e9d2f-03b3-459a-b2bc-b2fb1a8f6c75",
   "metadata": {},
   "source": [
    "## non-crossing connected graphs"
   ]
  },
  {
   "cell_type": "code",
   "execution_count": 11,
   "id": "0e073842-4c76-4bbc-b158-74129a930938",
   "metadata": {},
   "outputs": [
    {
     "data": {
      "text/html": [
       "<html><script type=\"math/tex; mode=display\">\\newcommand{\\Bold}[1]{\\mathbf{#1}}-108 z^{4} + z^{2}</script></html>"
      ],
      "text/latex": [
       "$$\\newcommand{\\Bold}[1]{\\mathbf{#1}}-108 z^{4} + z^{2}$$"
      ],
      "text/plain": [
       "-108*z^4 + z^2"
      ]
     },
     "metadata": {},
     "output_type": "display_data"
    },
    {
     "data": {
      "text/html": [
       "<html><script type=\"math/tex; mode=display\">\\newcommand{\\Bold}[1]{\\mathbf{#1}}3 y^{2} + 2 y - 3 z</script></html>"
      ],
      "text/latex": [
       "$$\\newcommand{\\Bold}[1]{\\mathbf{#1}}3 y^{2} + 2 y - 3 z$$"
      ],
      "text/plain": [
       "3*y^2 + 2*y - 3*z"
      ]
     },
     "metadata": {},
     "output_type": "display_data"
    }
   ],
   "source": [
    "P = y^3 + y^2 - 3*z*y + 2*z^2\n",
    "show(P.discriminant(y))\n",
    "show(P.derivative(y))"
   ]
  },
  {
   "cell_type": "code",
   "execution_count": 12,
   "id": "7d944d0d-09f9-4f05-a5b4-101fb86d0670",
   "metadata": {},
   "outputs": [
    {
     "data": {
      "text/html": [
       "<html><script type=\"math/tex; mode=display\">\\newcommand{\\Bold}[1]{\\mathbf{#1}}y^{3} z^{3} + 3 y^{2} z^{3} + 3 y^{2} z^{2} + 3 y z^{3} + y^{2} z + 6 y z^{2} + z^{3} + 5 y z + 3 z^{2} - y + 4 z</script></html>"
      ],
      "text/latex": [
       "$$\\newcommand{\\Bold}[1]{\\mathbf{#1}}y^{3} z^{3} + 3 y^{2} z^{3} + 3 y^{2} z^{2} + 3 y z^{3} + y^{2} z + 6 y z^{2} + z^{3} + 5 y z + 3 z^{2} - y + 4 z$$"
      ],
      "text/plain": [
       "y^3*z^3 + 3*y^2*z^3 + 3*y^2*z^2 + 3*y*z^3 + y^2*z + 6*y*z^2 + z^3 + 5*y*z + 3*z^2 - y + 4*z"
      ]
     },
     "metadata": {},
     "output_type": "display_data"
    },
    {
     "data": {
      "text/html": [
       "<html><script type=\"math/tex; mode=display\">\\newcommand{\\Bold}[1]{\\mathbf{#1}}3 y^{2} z^{3} + 6 y z^{3} + 6 y z^{2} + 3 z^{3} + 2 y z + 6 z^{2} + 5 z - 1</script></html>"
      ],
      "text/latex": [
       "$$\\newcommand{\\Bold}[1]{\\mathbf{#1}}3 y^{2} z^{3} + 6 y z^{3} + 6 y z^{2} + 3 z^{3} + 2 y z + 6 z^{2} + 5 z - 1$$"
      ],
      "text/plain": [
       "3*y^2*z^3 + 6*y*z^3 + 6*y*z^2 + 3*z^3 + 2*y*z + 6*z^2 + 5*z - 1"
      ]
     },
     "metadata": {},
     "output_type": "display_data"
    }
   ],
   "source": [
    "# the GF starts: z + z^2 + 4z^3 + ...\n",
    "Q = simplify(P.subs(y = z + z^2 + z^2*y) / z^3)\n",
    "show(Q)\n",
    "show(Q.derivative(y))"
   ]
  },
  {
   "cell_type": "code",
   "execution_count": 13,
   "id": "5a33d2c2-673c-4baa-9577-60aa24f24460",
   "metadata": {},
   "outputs": [
    {
     "name": "stdout",
     "output_type": "stream",
     "text": [
      "(3*y^6*z^3 + 6*y^5*z^3 + 3*y^4*z^3 + 6*y^4*z^2 + 6*y^3*z^2 + 2*y^3*z + 5*y^2*z - y)/(y^5*z^3 + 3*y^4*z^3 + 3*y^3*z^3 + 3*y^3*z^2 + y^2*z^3 + 6*y^2*z^2 + y^2*z + 3*y*z^2 + 5*y*z + 4*z - 1)\n"
     ]
    },
    {
     "data": {
      "text/html": [
       "<html><script type=\"math/tex; mode=display\">\\newcommand{\\Bold}[1]{\\mathbf{#1}}\\frac{3 y^{6} z^{3} + 6 y^{5} z^{3} + 3 y^{4} z^{3} + 6 y^{4} z^{2} + 6 y^{3} z^{2} + 2 y^{3} z + 5 y^{2} z - y}{y^{5} z^{3} + 3 y^{4} z^{3} + 3 y^{3} z^{3} + 3 y^{3} z^{2} + y^{2} z^{3} + 6 y^{2} z^{2} + y^{2} z + 3 y z^{2} + 5 y z + 4 z - 1}</script></html>"
      ],
      "text/latex": [
       "$$\\newcommand{\\Bold}[1]{\\mathbf{#1}}\\frac{3 y^{6} z^{3} + 6 y^{5} z^{3} + 3 y^{4} z^{3} + 6 y^{4} z^{2} + 6 y^{3} z^{2} + 2 y^{3} z + 5 y^{2} z - y}{y^{5} z^{3} + 3 y^{4} z^{3} + 3 y^{3} z^{3} + 3 y^{3} z^{2} + y^{2} z^{3} + 6 y^{2} z^{2} + y^{2} z + 3 y z^{2} + 5 y z + 4 z - 1}$$"
      ],
      "text/plain": [
       "(3*y^6*z^3 + 6*y^5*z^3 + 3*y^4*z^3 + 6*y^4*z^2 + 6*y^3*z^2 + 2*y^3*z + 5*y^2*z - y)/(y^5*z^3 + 3*y^4*z^3 + 3*y^3*z^3 + 3*y^3*z^2 + y^2*z^3 + 6*y^2*z^2 + y^2*z + 3*y*z^2 + 5*y*z + 4*z - 1)"
      ]
     },
     "metadata": {},
     "output_type": "display_data"
    }
   ],
   "source": [
    "F = y^2 * Q.derivative(y).subs(z = y*z) / Q.subs(z = y*z)\n",
    "print(F)\n",
    "show(F)"
   ]
  },
  {
   "cell_type": "code",
   "execution_count": 14,
   "id": "95b954cb-6135-41e0-9710-265b65fe5da6",
   "metadata": {},
   "outputs": [
    {
     "name": "stdout",
     "output_type": "stream",
     "text": [
      "True\n",
      "1\n",
      "True\n"
     ]
    },
    {
     "data": {
      "image/png": "[encoded data removed]",
      "text/plain": [
       "A 2-dimensional polyhedron in ZZ^2 defined as the convex hull of 5 vertices"
      ]
     },
     "execution_count": 14,
     "metadata": {},
     "output_type": "execute_result"
    }
   ],
   "source": [
    "print(F.denominator().is_squarefree())\n",
    "print(gcd(F.denominator(), F.numerator()))\n",
    "print(finite_height(F.denominator()))\n",
    "F.denominator().newton_polytope()"
   ]
  },
  {
   "cell_type": "markdown",
   "id": "a3724837-51c1-42ce-84a3-a5a99dfe0dbc",
   "metadata": {},
   "source": [
    "## non-crossing graphs"
   ]
  },
  {
   "cell_type": "code",
   "execution_count": 15,
   "id": "17bb0133-c7e5-41a4-95f2-f1b2f11c9ffc",
   "metadata": {},
   "outputs": [
    {
     "data": {
      "text/html": [
       "<html><script type=\"math/tex; mode=display\">\\newcommand{\\Bold}[1]{\\mathbf{#1}}4 z^{4} - 12 z^{3} + z^{2}</script></html>"
      ],
      "text/latex": [
       "$$\\newcommand{\\Bold}[1]{\\mathbf{#1}}4 z^{4} - 12 z^{3} + z^{2}$$"
      ],
      "text/plain": [
       "4*z^4 - 12*z^3 + z^2"
      ]
     },
     "metadata": {},
     "output_type": "display_data"
    },
    {
     "data": {
      "text/html": [
       "<html><script type=\"math/tex; mode=display\">\\newcommand{\\Bold}[1]{\\mathbf{#1}}2 z^{2} + 2 y - 3 z - 2</script></html>"
      ],
      "text/latex": [
       "$$\\newcommand{\\Bold}[1]{\\mathbf{#1}}2 z^{2} + 2 y - 3 z - 2$$"
      ],
      "text/plain": [
       "2*z^2 + 2*y - 3*z - 2"
      ]
     },
     "metadata": {},
     "output_type": "display_data"
    }
   ],
   "source": [
    "P = y^2 + (2*z^2 - 3*z - 2)*y + 3*z + 1\n",
    "show(P.discriminant(y))\n",
    "show(P.derivative(y))"
   ]
  },
  {
   "cell_type": "code",
   "execution_count": 16,
   "id": "0020da55-3e57-47af-8542-52c812256231",
   "metadata": {},
   "outputs": [
    {
     "data": {
      "text/html": [
       "<html><script type=\"math/tex; mode=display\">\\newcommand{\\Bold}[1]{\\mathbf{#1}}y^{2} z + 6 y z - y + 8 z</script></html>"
      ],
      "text/latex": [
       "$$\\newcommand{\\Bold}[1]{\\mathbf{#1}}y^{2} z + 6 y z - y + 8 z$$"
      ],
      "text/plain": [
       "y^2*z + 6*y*z - y + 8*z"
      ]
     },
     "metadata": {},
     "output_type": "display_data"
    },
    {
     "data": {
      "text/html": [
       "<html><script type=\"math/tex; mode=display\">\\newcommand{\\Bold}[1]{\\mathbf{#1}}2 y z + 6 z - 1</script></html>"
      ],
      "text/latex": [
       "$$\\newcommand{\\Bold}[1]{\\mathbf{#1}}2 y z + 6 z - 1$$"
      ],
      "text/plain": [
       "2*y*z + 6*z - 1"
      ]
     },
     "metadata": {},
     "output_type": "display_data"
    }
   ],
   "source": [
    "# the GF starts: 1 + z + 2z^2 + 8z^3 + ...\n",
    "Q = simplify(P.subs(y = 1 + z + 2*z^2 + z^2*y) / z^3)\n",
    "show(Q)\n",
    "show(Q.derivative(y))"
   ]
  },
  {
   "cell_type": "code",
   "execution_count": 17,
   "id": "5696c5de-c6f8-467a-bf56-6209382116e2",
   "metadata": {},
   "outputs": [
    {
     "name": "stdout",
     "output_type": "stream",
     "text": [
      "(2*y^3*z + 6*y^2*z - y)/(y^2*z + 6*y*z + 8*z - 1)\n"
     ]
    },
    {
     "data": {
      "text/html": [
       "<html><script type=\"math/tex; mode=display\">\\newcommand{\\Bold}[1]{\\mathbf{#1}}\\frac{2 y^{3} z + 6 y^{2} z - y}{y^{2} z + 6 y z + 8 z - 1}</script></html>"
      ],
      "text/latex": [
       "$$\\newcommand{\\Bold}[1]{\\mathbf{#1}}\\frac{2 y^{3} z + 6 y^{2} z - y}{y^{2} z + 6 y z + 8 z - 1}$$"
      ],
      "text/plain": [
       "(2*y^3*z + 6*y^2*z - y)/(y^2*z + 6*y*z + 8*z - 1)"
      ]
     },
     "metadata": {},
     "output_type": "display_data"
    }
   ],
   "source": [
    "F = y^2 * Q.derivative(y).subs(z = y*z) / Q.subs(z = y*z)\n",
    "print(F)\n",
    "show(F)"
   ]
  },
  {
   "cell_type": "code",
   "execution_count": 18,
   "id": "0a796b84-446d-4419-a939-29269e0c5d1b",
   "metadata": {},
   "outputs": [
    {
     "name": "stdout",
     "output_type": "stream",
     "text": [
      "True\n",
      "1\n",
      "False\n"
     ]
    },
    {
     "data": {
      "image/png": "[encoded data removed]",
      "text/plain": [
       "A 2-dimensional polyhedron in ZZ^2 defined as the convex hull of 3 vertices"
      ]
     },
     "execution_count": 18,
     "metadata": {},
     "output_type": "execute_result"
    }
   ],
   "source": [
    "print(F.denominator().is_squarefree())\n",
    "print(gcd(F.denominator(), F.numerator()))\n",
    "print(finite_height(F.denominator()))\n",
    "F.denominator().newton_polytope()"
   ]
  },
  {
   "cell_type": "markdown",
   "id": "6f4e892f-4483-4c7a-83de-ea0aea19c6e5",
   "metadata": {},
   "source": [
    "# Power Series Expansions"
   ]
  },
  {
   "cell_type": "code",
   "execution_count": 19,
   "id": "5dd33a83-873c-4865-94be-11484fe76e35",
   "metadata": {},
   "outputs": [],
   "source": [
    "R = PowerSeriesRing(QQ, 'y, z')\n",
    "y, z = R.gens()"
   ]
  },
  {
   "cell_type": "code",
   "execution_count": 20,
   "id": "d2f5354a-8798-4021-b509-a2e59b707f7f",
   "metadata": {},
   "outputs": [
    {
     "data": {
      "text/html": [
       "<html><script type=\"math/tex; mode=display\">\\newcommand{\\Bold}[1]{\\mathbf{#1}}y + 12 y z + 144 y z^{2} + 55 y^{2} z^{2} + 1728 y z^{3} + 1320 y^{2} z^{3} + 20736 y z^{4} + 273 y^{3} z^{3} + 23760 y^{2} z^{4} + 248832 y z^{5} + 9577 y^{3} z^{4} + 380160 y^{2} z^{5} + 2985984 y z^{6} - 3 y^{5} z^{3} + 1428 y^{4} z^{4} + 226836 y^{3} z^{5} + 5702400 y^{2} z^{6} + 35831808 y z^{7} + 64302 y^{4} z^{5} + 4500576 y^{3} z^{6} + 82114560 y^{2} z^{7} + 429981696 y z^{8} - 12 y^{6} z^{4} + 7752 y^{5} z^{5} + 1864351 y^{4} z^{6} + 80576640 y^{3} z^{7} + 1149603840 y^{2} z^{8} + 5159780352 y z^{9} + 417657 y^{5} z^{6} + 43802256 y^{4} z^{7} + 1348482816 y^{3} z^{8} + 15765995520 y^{2} z^{9} + 61917364224 y z^{10} - 63 y^{7} z^{5} + 43263 y^{6} z^{6} + 14164263 y^{5} z^{7} + 906553440 y^{4} z^{8} + 21513268224 y^{3} z^{9} + 212840939520 y^{2} z^{10} + 743008370688 y z^{11} + O(y, z)^{13}</script></html>"
      ],
      "text/latex": [
       "$$\\newcommand{\\Bold}[1]{\\mathbf{#1}}y + 12 y z + 144 y z^{2} + 55 y^{2} z^{2} + 1728 y z^{3} + 1320 y^{2} z^{3} + 20736 y z^{4} + 273 y^{3} z^{3} + 23760 y^{2} z^{4} + 248832 y z^{5} + 9577 y^{3} z^{4} + 380160 y^{2} z^{5} + 2985984 y z^{6} - 3 y^{5} z^{3} + 1428 y^{4} z^{4} + 226836 y^{3} z^{5} + 5702400 y^{2} z^{6} + 35831808 y z^{7} + 64302 y^{4} z^{5} + 4500576 y^{3} z^{6} + 82114560 y^{2} z^{7} + 429981696 y z^{8} - 12 y^{6} z^{4} + 7752 y^{5} z^{5} + 1864351 y^{4} z^{6} + 80576640 y^{3} z^{7} + 1149603840 y^{2} z^{8} + 5159780352 y z^{9} + 417657 y^{5} z^{6} + 43802256 y^{4} z^{7} + 1348482816 y^{3} z^{8} + 15765995520 y^{2} z^{9} + 61917364224 y z^{10} - 63 y^{7} z^{5} + 43263 y^{6} z^{6} + 14164263 y^{5} z^{7} + 906553440 y^{4} z^{8} + 21513268224 y^{3} z^{9} + 212840939520 y^{2} z^{10} + 743008370688 y z^{11} + O(y, z)^{13}$$"
      ],
      "text/plain": [
       "y + 12*y*z + 144*y*z^2 + 55*y^2*z^2 + 1728*y*z^3 + 1320*y^2*z^3 + 20736*y*z^4 + 273*y^3*z^3 + 23760*y^2*z^4 + 248832*y*z^5 + 9577*y^3*z^4 + 380160*y^2*z^5 + 2985984*y*z^6 - 3*y^5*z^3 + 1428*y^4*z^4 + 226836*y^3*z^5 + 5702400*y^2*z^6 + 35831808*y*z^7 + 64302*y^4*z^5 + 4500576*y^3*z^6 + 82114560*y^2*z^7 + 429981696*y*z^8 - 12*y^6*z^4 + 7752*y^5*z^5 + 1864351*y^4*z^6 + 80576640*y^3*z^7 + 1149603840*y^2*z^8 + 5159780352*y*z^9 + 417657*y^5*z^6 + 43802256*y^4*z^7 + 1348482816*y^3*z^8 + 15765995520*y^2*z^9 + 61917364224*y*z^10 - 63*y^7*z^5 + 43263*y^6*z^6 + 14164263*y^5*z^7 + 906553440*y^4*z^8 + 21513268224*y^3*z^9 + 212840939520*y^2*z^10 + 743008370688*y*z^11 + O(y, z)^13"
      ]
     },
     "metadata": {},
     "output_type": "display_data"
    }
   ],
   "source": [
    "T = (3*y^8*z^5 + 18*y^7*z^5 + 27*y^6*z^5 + 6*y^6*z^4 + 18*y^5*z^4 + 6*y^5*z^3 + 21*y^4*z^3 + 6*y^3*z^2 + 3*y^2*z - y)/(y^7*z^5 + 9*y^6*z^5 + 27*y^5*z^5 + 3*y^5*z^4 + 27*y^4*z^5 + 18*y^4*z^4 + 3*y^4*z^3 + 27*y^3*z^4 + 21*y^3*z^3 + 36*y^2*z^3 + 6*y^2*z^2 + 19*y*z^2 + 3*y*z + 12*z - 1)\n",
    "show(T)"
   ]
  },
  {
   "cell_type": "code",
   "execution_count": 21,
   "id": "3e25eb26-2954-415f-b02c-9f573809237b",
   "metadata": {},
   "outputs": [
    {
     "data": {
      "text/html": [
       "<html><script type=\"math/tex; mode=display\">\\newcommand{\\Bold}[1]{\\mathbf{#1}}y + 33 y z + 1089 y z^{2} + 181 y^{2} z^{2} + 35937 y z^{3} + 11946 y^{2} z^{3} + 1185921 y z^{4} + 1083 y^{3} z^{3} + 591327 y^{2} z^{4} + 39135393 y z^{5} + 104239 y^{3} z^{4} + 26018388 y^{2} z^{5} + 1291467969 y z^{6} - 2 y^{5} z^{3} + 6854 y^{4} z^{4} + 6781500 y^{3} z^{5} + 1073258505 y^{2} z^{6} + 42618442977 y z^{7} + 844410 y^{4} z^{5} + 369739458 y^{3} z^{6} + 42501036798 y^{2} z^{7} + 1406408618241 y z^{8} - 13 y^{6} z^{4} + 45111 y^{5} z^{5} + 67134313 y^{4} z^{6} + 18195082785 y^{3} z^{7} + 1636289916723 y^{2} z^{8} + 46411484401953 y z^{9} + 6631363 y^{5} z^{6} + 4329603168 y^{4} z^{7} + 837081151929 y^{3} z^{8} + 61711505430696 y^{2} z^{9} + 1531578985264449 y z^{10} - 80 y^{7} z^{5} + 305629 y^{6} z^{6} + 615567789 y^{5} z^{7} + 246105963180 y^{4} z^{8} + 36715025484522 y^{3} z^{9} + 2291039639114589 y^{2} z^{10} + 50542106513726817 y z^{11} + O(y, z)^{13}</script></html>"
      ],
      "text/latex": [
       "$$\\newcommand{\\Bold}[1]{\\mathbf{#1}}y + 33 y z + 1089 y z^{2} + 181 y^{2} z^{2} + 35937 y z^{3} + 11946 y^{2} z^{3} + 1185921 y z^{4} + 1083 y^{3} z^{3} + 591327 y^{2} z^{4} + 39135393 y z^{5} + 104239 y^{3} z^{4} + 26018388 y^{2} z^{5} + 1291467969 y z^{6} - 2 y^{5} z^{3} + 6854 y^{4} z^{4} + 6781500 y^{3} z^{5} + 1073258505 y^{2} z^{6} + 42618442977 y z^{7} + 844410 y^{4} z^{5} + 369739458 y^{3} z^{6} + 42501036798 y^{2} z^{7} + 1406408618241 y z^{8} - 13 y^{6} z^{4} + 45111 y^{5} z^{5} + 67134313 y^{4} z^{6} + 18195082785 y^{3} z^{7} + 1636289916723 y^{2} z^{8} + 46411484401953 y z^{9} + 6631363 y^{5} z^{6} + 4329603168 y^{4} z^{7} + 837081151929 y^{3} z^{8} + 61711505430696 y^{2} z^{9} + 1531578985264449 y z^{10} - 80 y^{7} z^{5} + 305629 y^{6} z^{6} + 615567789 y^{5} z^{7} + 246105963180 y^{4} z^{8} + 36715025484522 y^{3} z^{9} + 2291039639114589 y^{2} z^{10} + 50542106513726817 y z^{11} + O(y, z)^{13}$$"
      ],
      "text/plain": [
       "y + 33*y*z + 1089*y*z^2 + 181*y^2*z^2 + 35937*y*z^3 + 11946*y^2*z^3 + 1185921*y*z^4 + 1083*y^3*z^3 + 591327*y^2*z^4 + 39135393*y*z^5 + 104239*y^3*z^4 + 26018388*y^2*z^5 + 1291467969*y*z^6 - 2*y^5*z^3 + 6854*y^4*z^4 + 6781500*y^3*z^5 + 1073258505*y^2*z^6 + 42618442977*y*z^7 + 844410*y^4*z^5 + 369739458*y^3*z^6 + 42501036798*y^2*z^7 + 1406408618241*y*z^8 - 13*y^6*z^4 + 45111*y^5*z^5 + 67134313*y^4*z^6 + 18195082785*y^3*z^7 + 1636289916723*y^2*z^8 + 46411484401953*y*z^9 + 6631363*y^5*z^6 + 4329603168*y^4*z^7 + 837081151929*y^3*z^8 + 61711505430696*y^2*z^9 + 1531578985264449*y*z^10 - 80*y^7*z^5 + 305629*y^6*z^6 + 615567789*y^5*z^7 + 246105963180*y^4*z^8 + 36715025484522*y^3*z^9 + 2291039639114589*y^2*z^10 + 50542106513726817*y*z^11 + O(y, z)^13"
      ]
     },
     "metadata": {},
     "output_type": "display_data"
    }
   ],
   "source": [
    "F = (3*y^8*z^5 + 42*y^7*z^5 + 147*y^6*z^5 + 14*y^6*z^4 + 98*y^5*z^4 + 4*y^5*z^3 + 44*y^4*z^3 + 10*y^3*z^2 + 3*y^2*z - y)/(y^7*z^5 + 21*y^6*z^5 + 147*y^5*z^5 + 7*y^5*z^4 + 343*y^4*z^5 + 98*y^4*z^4 + 2*y^4*z^3 + 343*y^3*z^4 + 44*y^3*z^3 + 210*y^2*z^3 + 10*y^2*z^2 + 82*y*z^2 + 3*y*z + 33*z - 1)\n",
    "show(F)"
   ]
  },
  {
   "cell_type": "code",
   "execution_count": 22,
   "id": "ed00b3db-366b-4822-ab6a-1ccdebbd18cc",
   "metadata": {},
   "outputs": [
    {
     "data": {
      "text/html": [
       "<html><script type=\"math/tex; mode=display\">\\newcommand{\\Bold}[1]{\\mathbf{#1}}y + 4 y z + 16 y z^{2} - y^{3} z + 23 y^{2} z^{2} + 64 y z^{3} + 184 y^{2} z^{3} + 256 y z^{4} - 8 y^{4} z^{2} + 156 y^{3} z^{3} + 1104 y^{2} z^{4} + 1024 y z^{5} - y^{5} z^{2} + 1777 y^{3} z^{4} + 5888 y^{2} z^{5} + 4096 y z^{6} - 53 y^{5} z^{3} + 1162 y^{4} z^{4} + 13836 y^{3} z^{5} + 29440 y^{2} z^{6} + 16384 y z^{7} - 18 y^{6} z^{3} + 16472 y^{4} z^{5} + 90720 y^{3} z^{6} + 141312 y^{2} z^{7} + 65536 y z^{8} - y^{7} z^{3} - 387 y^{6} z^{4} + 9192 y^{5} z^{5} + 154055 y^{4} z^{6} + 538240 y^{3} z^{7} + 659456 y^{2} z^{8} + 262144 y z^{9} - 180 y^{7} z^{4} + 151324 y^{5} z^{6} + 1181040 y^{4} z^{7} + 2989824 y^{3} z^{8} + 3014656 y^{2} z^{9} + 1048576 y z^{10} - 27 y^{8} z^{4} - 3029 y^{7} z^{5} + 75819 y^{6} z^{6} + 1622244 y^{5} z^{7} + 8026720 y^{4} z^{8} + 15848448 y^{3} z^{9} + 13565952 y^{2} z^{10} + 4194304 y z^{11} + O(y, z)^{13}</script></html>"
      ],
      "text/latex": [
       "$$\\newcommand{\\Bold}[1]{\\mathbf{#1}}y + 4 y z + 16 y z^{2} - y^{3} z + 23 y^{2} z^{2} + 64 y z^{3} + 184 y^{2} z^{3} + 256 y z^{4} - 8 y^{4} z^{2} + 156 y^{3} z^{3} + 1104 y^{2} z^{4} + 1024 y z^{5} - y^{5} z^{2} + 1777 y^{3} z^{4} + 5888 y^{2} z^{5} + 4096 y z^{6} - 53 y^{5} z^{3} + 1162 y^{4} z^{4} + 13836 y^{3} z^{5} + 29440 y^{2} z^{6} + 16384 y z^{7} - 18 y^{6} z^{3} + 16472 y^{4} z^{5} + 90720 y^{3} z^{6} + 141312 y^{2} z^{7} + 65536 y z^{8} - y^{7} z^{3} - 387 y^{6} z^{4} + 9192 y^{5} z^{5} + 154055 y^{4} z^{6} + 538240 y^{3} z^{7} + 659456 y^{2} z^{8} + 262144 y z^{9} - 180 y^{7} z^{4} + 151324 y^{5} z^{6} + 1181040 y^{4} z^{7} + 2989824 y^{3} z^{8} + 3014656 y^{2} z^{9} + 1048576 y z^{10} - 27 y^{8} z^{4} - 3029 y^{7} z^{5} + 75819 y^{6} z^{6} + 1622244 y^{5} z^{7} + 8026720 y^{4} z^{8} + 15848448 y^{3} z^{9} + 13565952 y^{2} z^{10} + 4194304 y z^{11} + O(y, z)^{13}$$"
      ],
      "text/plain": [
       "y + 4*y*z + 16*y*z^2 - y^3*z + 23*y^2*z^2 + 64*y*z^3 + 184*y^2*z^3 + 256*y*z^4 - 8*y^4*z^2 + 156*y^3*z^3 + 1104*y^2*z^4 + 1024*y*z^5 - y^5*z^2 + 1777*y^3*z^4 + 5888*y^2*z^5 + 4096*y*z^6 - 53*y^5*z^3 + 1162*y^4*z^4 + 13836*y^3*z^5 + 29440*y^2*z^6 + 16384*y*z^7 - 18*y^6*z^3 + 16472*y^4*z^5 + 90720*y^3*z^6 + 141312*y^2*z^7 + 65536*y*z^8 - y^7*z^3 - 387*y^6*z^4 + 9192*y^5*z^5 + 154055*y^4*z^6 + 538240*y^3*z^7 + 659456*y^2*z^8 + 262144*y*z^9 - 180*y^7*z^4 + 151324*y^5*z^6 + 1181040*y^4*z^7 + 2989824*y^3*z^8 + 3014656*y^2*z^9 + 1048576*y*z^10 - 27*y^8*z^4 - 3029*y^7*z^5 + 75819*y^6*z^6 + 1622244*y^5*z^7 + 8026720*y^4*z^8 + 15848448*y^3*z^9 + 13565952*y^2*z^10 + 4194304*y*z^11 + O(y, z)^13"
      ]
     },
     "metadata": {},
     "output_type": "display_data"
    }
   ],
   "source": [
    "C = (3*y^6*z^3 + 6*y^5*z^3 + 3*y^4*z^3 + 6*y^4*z^2 + 6*y^3*z^2 + 2*y^3*z + 5*y^2*z - y)/(y^5*z^3 + 3*y^4*z^3 + 3*y^3*z^3 + 3*y^3*z^2 + y^2*z^3 + 6*y^2*z^2 + y^2*z + 3*y*z^2 + 5*y*z + 4*z - 1)\n",
    "show(C)"
   ]
  },
  {
   "cell_type": "code",
   "execution_count": 23,
   "id": "74dcf4f9-91b8-41e5-bdf3-94cccd0525f4",
   "metadata": {},
   "outputs": [
    {
     "data": {
      "text/html": [
       "<html><script type=\"math/tex; mode=display\">\\newcommand{\\Bold}[1]{\\mathbf{#1}}y + 8 y z + 64 y z^{2} - y^{3} z + 48 y^{2} z^{2} + 512 y z^{3} + 768 y^{2} z^{3} + 4096 y z^{4} - 6 y^{4} z^{2} + 352 y^{3} z^{3} + 9216 y^{2} z^{4} + 32768 y z^{5} - y^{5} z^{2} + 7936 y^{3} z^{4} + 98304 y^{2} z^{5} + 262144 y z^{6} - 44 y^{5} z^{3} + 2880 y^{4} z^{4} + 122880 y^{3} z^{5} + 983040 y^{2} z^{6} + 2097152 y z^{7} - 12 y^{6} z^{3} + 79872 y^{4} z^{5} + 1605632 y^{3} z^{6} + 9437184 y^{2} z^{7} + 16777216 y z^{8} - y^{7} z^{3} - 360 y^{6} z^{4} + 25216 y^{5} z^{5} + 1474560 y^{4} z^{6} + 19005440 y^{3} z^{7} + 88080384 y^{2} z^{8} + 134217728 y z^{9} - 124 y^{7} z^{4} + 803840 y^{5} z^{6} + 22413312 y^{4} z^{7} + 210763776 y^{3} z^{8} + 805306368 y^{2} z^{9} + 1073741824 y z^{10} - 18 y^{8} z^{4} - 3152 y^{7} z^{5} + 231168 y^{6} z^{6} + 16883712 y^{5} z^{7} + 302776320 y^{4} z^{8} + 2231369728 y^{3} z^{9} + 7247757312 y^{2} z^{10} + 8589934592 y z^{11} + O(y, z)^{13}</script></html>"
      ],
      "text/latex": [
       "$$\\newcommand{\\Bold}[1]{\\mathbf{#1}}y + 8 y z + 64 y z^{2} - y^{3} z + 48 y^{2} z^{2} + 512 y z^{3} + 768 y^{2} z^{3} + 4096 y z^{4} - 6 y^{4} z^{2} + 352 y^{3} z^{3} + 9216 y^{2} z^{4} + 32768 y z^{5} - y^{5} z^{2} + 7936 y^{3} z^{4} + 98304 y^{2} z^{5} + 262144 y z^{6} - 44 y^{5} z^{3} + 2880 y^{4} z^{4} + 122880 y^{3} z^{5} + 983040 y^{2} z^{6} + 2097152 y z^{7} - 12 y^{6} z^{3} + 79872 y^{4} z^{5} + 1605632 y^{3} z^{6} + 9437184 y^{2} z^{7} + 16777216 y z^{8} - y^{7} z^{3} - 360 y^{6} z^{4} + 25216 y^{5} z^{5} + 1474560 y^{4} z^{6} + 19005440 y^{3} z^{7} + 88080384 y^{2} z^{8} + 134217728 y z^{9} - 124 y^{7} z^{4} + 803840 y^{5} z^{6} + 22413312 y^{4} z^{7} + 210763776 y^{3} z^{8} + 805306368 y^{2} z^{9} + 1073741824 y z^{10} - 18 y^{8} z^{4} - 3152 y^{7} z^{5} + 231168 y^{6} z^{6} + 16883712 y^{5} z^{7} + 302776320 y^{4} z^{8} + 2231369728 y^{3} z^{9} + 7247757312 y^{2} z^{10} + 8589934592 y z^{11} + O(y, z)^{13}$$"
      ],
      "text/plain": [
       "y + 8*y*z + 64*y*z^2 - y^3*z + 48*y^2*z^2 + 512*y*z^3 + 768*y^2*z^3 + 4096*y*z^4 - 6*y^4*z^2 + 352*y^3*z^3 + 9216*y^2*z^4 + 32768*y*z^5 - y^5*z^2 + 7936*y^3*z^4 + 98304*y^2*z^5 + 262144*y*z^6 - 44*y^5*z^3 + 2880*y^4*z^4 + 122880*y^3*z^5 + 983040*y^2*z^6 + 2097152*y*z^7 - 12*y^6*z^3 + 79872*y^4*z^5 + 1605632*y^3*z^6 + 9437184*y^2*z^7 + 16777216*y*z^8 - y^7*z^3 - 360*y^6*z^4 + 25216*y^5*z^5 + 1474560*y^4*z^6 + 19005440*y^3*z^7 + 88080384*y^2*z^8 + 134217728*y*z^9 - 124*y^7*z^4 + 803840*y^5*z^6 + 22413312*y^4*z^7 + 210763776*y^3*z^8 + 805306368*y^2*z^9 + 1073741824*y*z^10 - 18*y^8*z^4 - 3152*y^7*z^5 + 231168*y^6*z^6 + 16883712*y^5*z^7 + 302776320*y^4*z^8 + 2231369728*y^3*z^9 + 7247757312*y^2*z^10 + 8589934592*y*z^11 + O(y, z)^13"
      ]
     },
     "metadata": {},
     "output_type": "display_data"
    }
   ],
   "source": [
    "G = (2*y^3*z + 6*y^2*z - y)/(y^2*z + 6*y*z + 8*z - 1)\n",
    "show(G)"
   ]
  },
  {
   "cell_type": "code",
   "execution_count": null,
   "id": "13852885-04f1-4f68-953a-4c2de709a4fa",
   "metadata": {},
   "outputs": [],
   "source": []
  }
 ],
 "metadata": {
  "kernelspec": {
   "display_name": "SageMath 9.5",
   "language": "sage",
   "name": "sagemath"
  },
  "language_info": {
   "codemirror_mode": {
    "name": "ipython",
    "version": 3
   },
   "file_extension": ".py",
   "mimetype": "text/x-python",
   "name": "python",
   "nbconvert_exporter": "python",
   "pygments_lexer": "ipython3",
   "version": "3.10.6"
  }
 },
 "nbformat": 4,
 "nbformat_minor": 5
}
