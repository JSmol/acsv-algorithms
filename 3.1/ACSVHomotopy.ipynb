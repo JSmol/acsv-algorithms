{
 "cells": [
  {
   "cell_type": "code",
   "execution_count": 1,
   "id": "61b358ac-e9d4-4c0c-9cb4-04f9a711e15c",
   "metadata": {},
   "outputs": [
    {
     "name": "stderr",
     "output_type": "stream",
     "text": [
      "\u001b[32m\u001b[1m  Activating\u001b[22m\u001b[39m project at `~/ACSVHomotopy`\n"
     ]
    },
    {
     "data": {
      "text/plain": [
       "(x, y, z)"
      ]
     },
     "execution_count": 1,
     "metadata": {},
     "output_type": "execute_result"
    }
   ],
   "source": [
    "# If you don't already have HomotopyContinuation.jl installed this might take a while\n",
    "# This code depends on the https://github.com/ACSVMath/ACSVHomotopy package\n",
    "using Pkg\n",
    "Pkg.activate(\".\")\n",
    "using ACSVHomotopy\n",
    "@polyvar x y z"
   ]
  },
  {
   "cell_type": "markdown",
   "id": "b41b3c8f-99f4-4381-883f-d3d306dffbd3",
   "metadata": {},
   "source": [
    "## Non-Crossing Configurations"
   ]
  },
  {
   "cell_type": "code",
   "execution_count": 2,
   "id": "dd2654f1-1629-4fc7-a96a-284ee609383c",
   "metadata": {},
   "outputs": [
    {
     "name": "stdout",
     "output_type": "stream",
     "text": [
      " 46.720010 seconds (87.24 M allocations: 4.335 GiB, 2.31% gc time, 84.69% compilation time)\n"
     ]
    },
    {
     "data": {
      "text/plain": [
       "1-element Vector{Vector{Float64}}:\n",
       " [0.03033008588991066, 2.828427124746189]"
      ]
     },
     "execution_count": 2,
     "metadata": {},
     "output_type": "execute_result"
    }
   ],
   "source": [
    "# non-crossing graphs\n",
    "H = (y^2*x + 6*y*x + 8*x - 1)\n",
    "@time find_min_crits(H)"
   ]
  },
  {
   "cell_type": "code",
   "execution_count": 3,
   "id": "698f428c-c0bd-43b7-912d-7f599b5616b8",
   "metadata": {},
   "outputs": [
    {
     "name": "stdout",
     "output_type": "stream",
     "text": [
      " 12.084447 seconds (28.58 M allocations: 1.345 GiB, 2.01% gc time, 98.11% compilation time)\n"
     ]
    },
    {
     "data": {
      "text/plain": [
       "1-element Vector{Vector{Float64}}:\n",
       " [0.03033008588991066, 2.828427124746189]"
      ]
     },
     "execution_count": 3,
     "metadata": {},
     "output_type": "execute_result"
    }
   ],
   "source": [
    "# the heuristic method provides several orders of magnitude performance improvement\n",
    "@time MCP = find_min_crits(H; approx_crit=true)"
   ]
  },
  {
   "cell_type": "code",
   "execution_count": 4,
   "id": "59d36505-4e54-48bf-9793-e3ef19dfd688",
   "metadata": {},
   "outputs": [
    {
     "name": "stdout",
     "output_type": "stream",
     "text": [
      "exponential growth: 11.656854249492378\n",
      "expected: 11.65685424949238\n"
     ]
    }
   ],
   "source": [
    "println(\"exponential growth: \", 1/prod(MCP[1]))\n",
    "println(\"expected: \", 6 + 4*sqrt(2))"
   ]
  },
  {
   "cell_type": "code",
   "execution_count": 5,
   "id": "dafa2e8a-8158-4f9e-9b63-2511a0d147b5",
   "metadata": {},
   "outputs": [
    {
     "name": "stdout",
     "output_type": "stream",
     "text": [
      " 53.599970 seconds (28.75 M allocations: 1.558 GiB, 1.02% gc time, 25.57% compilation time)\n"
     ]
    },
    {
     "data": {
      "text/plain": [
       "1-element Vector{Vector{Float64}}:\n",
       " [0.05391937820329315, 1.7846096908265279]"
      ]
     },
     "execution_count": 5,
     "metadata": {},
     "output_type": "execute_result"
    }
   ],
   "source": [
    "# non-crossing connected graphs\n",
    "H = (y^5*x^3 + 3*y^4*x^3 + 3*y^3*x^3 + 3*y^3*x^2 + y^2*x^3 + 6*y^2*x^2 + y^2*x + 3*y*x^2 + 5*y*x + 4*x - 1)\n",
    "@time MCP = find_min_crits(H; approx_crit=true)"
   ]
  },
  {
   "cell_type": "code",
   "execution_count": 6,
   "id": "534c83b0-816c-4018-93c4-ed45a2ce1406",
   "metadata": {},
   "outputs": [
    {
     "name": "stdout",
     "output_type": "stream",
     "text": [
      "exponential growth: 10.392304845413264\n",
      "expected: 10.392304845413264\n"
     ]
    }
   ],
   "source": [
    "println(\"exponential growth: \", 1/prod(MCP[1]))\n",
    "println(\"expected: \", 6*sqrt(3))"
   ]
  },
  {
   "cell_type": "code",
   "execution_count": 7,
   "id": "6b2adbca-6b7f-4ecb-9504-ce97ab8500f1",
   "metadata": {},
   "outputs": [
    {
     "name": "stdout",
     "output_type": "stream",
     "text": [
      "612.443327 seconds (65.71 M allocations: 5.346 GiB, 0.21% gc time, 4.48% compilation time)\n"
     ]
    },
    {
     "data": {
      "text/plain": [
       "1-element Vector{Vector{Float64}}:\n",
       " [0.0043199830940064176, 28.144810807432684]"
      ]
     },
     "execution_count": 7,
     "metadata": {},
     "output_type": "execute_result"
    }
   ],
   "source": [
    "# non-crossing forests\n",
    "H = (y^7*x^5 + 21*y^6*x^5 + 147*y^5*x^5 + 7*y^5*x^4 + 343*y^4*x^5 + 98*y^4*x^4 + 2*y^4*x^3 + 343*y^3*x^4 + 44*y^3*x^3 + 210*y^2*x^3 + 10*y^2*x^2 + 82*y*x^2 + 3*y*x + 33*x - 1)\n",
    "@time MCP = find_min_crits(H; approx_crit=true)"
   ]
  },
  {
   "cell_type": "code",
   "execution_count": 8,
   "id": "2907368f-2219-4089-a58a-7ee09a90f12f",
   "metadata": {},
   "outputs": [
    {
     "name": "stdout",
     "output_type": "stream",
     "text": [
      "exponential growth: 8.224691540977856\n",
      "expected: 8.22469\n"
     ]
    }
   ],
   "source": [
    "println(\"exponential growth: \", 1/prod(MCP[1]))\n",
    "println(\"expected: \", 8.22469)"
   ]
  },
  {
   "cell_type": "code",
   "execution_count": 9,
   "id": "67ae2cac-742b-4a6c-bffa-a434d29b5199",
   "metadata": {},
   "outputs": [
    {
     "name": "stdout",
     "output_type": "stream",
     "text": [
      "185.547988 seconds (4.48 M allocations: 232.102 MiB, 0.04% compilation time)\n"
     ]
    },
    {
     "data": {
      "text/plain": [
       "1-element Vector{Vector{Float64}}:\n",
       " [0.011368682831512572, 13.031249999999993]"
      ]
     },
     "execution_count": 9,
     "metadata": {},
     "output_type": "execute_result"
    }
   ],
   "source": [
    "# non-crossing trees\n",
    "H = (y^7*x^5 + 9*y^6*x^5 + 27*y^5*x^5 + 3*y^5*x^4 + 27*y^4*x^5 + 18*y^4*x^4 + 3*y^4*x^3 + 27*y^3*x^4 + 21*y^3*x^3 + 36*y^2*x^3 + 6*y^2*x^2 + 19*y*x^2 + 3*y*x + 12*x - 1)\n",
    "@time MCP = find_min_crits(H; approx_crit=true)"
   ]
  },
  {
   "cell_type": "code",
   "execution_count": 10,
   "id": "a5e82258-bb11-4862-833e-d2ab9f96ed5f",
   "metadata": {},
   "outputs": [
    {
     "name": "stdout",
     "output_type": "stream",
     "text": [
      "exponential growth: 6.750000000000002\n",
      "expected: 6.75\n"
     ]
    }
   ],
   "source": [
    "println(\"exponential growth: \", 1/prod(MCP[1]))\n",
    "println(\"expected: \", 27/4)"
   ]
  },
  {
   "cell_type": "markdown",
   "id": "e4b043b1-b0cd-4340-94ab-919509c59b31",
   "metadata": {},
   "source": [
    "#### this cell may take a long time to execute"
   ]
  },
  {
   "cell_type": "code",
   "execution_count": 11,
   "id": "1afe1e3a-fd86-4000-86d9-18c808fcc7d3",
   "metadata": {},
   "outputs": [],
   "source": [
    "# # non-crossing connected graphs (without approximated critical points)\n",
    "# H = (y^5*x^3 + 3*y^4*x^3 + 3*y^3*x^3 + 3*y^3*x^2 + y^2*x^3 + 6*y^2*x^2 + y^2*x + 3*y*x^2 + 5*y*x + 4*x - 1)\n",
    "# @time MCP = find_min_crits(H)"
   ]
  },
  {
   "cell_type": "markdown",
   "id": "3793b67d-c385-4c29-9df6-0b8bbefce896",
   "metadata": {},
   "source": [
    "## Lattice Walks\n",
    "In these examples we also compute subexponential growth using the smooth ACSV asymptotics theorem."
   ]
  },
  {
   "cell_type": "code",
   "execution_count": null,
   "id": "f8a99770-771f-4bc3-9f2f-212a89cc149d",
   "metadata": {},
   "outputs": [],
   "source": [
    "using LinearAlgebra\n",
    "using Symbolics\n",
    "\n",
    "# numbers smaller than this are *probably* zero\n",
    "# we do numerical computations here, but these operation can be done symbolically\n",
    "ϵ = 1e-14\n",
    "function asymptotics(G, H, MCP)\n",
    "    z = variables(H)\n",
    "    d = length(z)\n",
    "    bases = []\n",
    "    coeffs = []\n",
    "    for ζ in MCP\n",
    "        λ = convert(ComplexF64, ζ[1] * subs(differentiate(H, z[1]), z => ζ))\n",
    "        # compute the hessian of ϕ (lemma 5.5 of An Invitation to Analytic Combinatorics)\n",
    "        U = [[convert(ComplexF64, ζ[k]*ζ[l]*subs(differentiate(differentiate(H, z[k]), z[l]), z => ζ))/λ for k in 1:d] for l in 1:d]\n",
    "        Hes = [[i == j ? convert(ComplexF64, 2 + U[i][j] - U[i][d] - U[j][d] + U[d][d]) : \n",
    "                         convert(ComplexF64, 1 + U[i][j] - U[i][d] - U[j][d] + U[d][d]) for i in 1:d-1] for j in 1:d-1]\n",
    "        Hes = reduce(hcat, Hes)\n",
    "        C₀ = -G(z => ζ) / (ζ[d]*differentiate(H, z[d])(z => ζ))\n",
    "        \n",
    "        # we know these coefficients are real in these cases\n",
    "        coeff = convert(Real, (2π)^((1-d)/2) / sqrt(det(Hes)) * C₀)\n",
    "        push!(bases, convert(Real, 1/prod(ζ)))\n",
    "        push!(coeffs, coeff < ϵ ? 0 : coeff)\n",
    "    end\n",
    "    asm(n) = sum(coeffs[k]*n^((1-d)/2)*bases[k]^n for k in 1:length(MCP))\n",
    "    return asm\n",
    "end\n",
    "@variables n"
   ]
  },
  {
   "cell_type": "code",
   "execution_count": 13,
   "id": "d347bb30-af3a-4606-b353-d72e798fe050",
   "metadata": {},
   "outputs": [
    {
     "name": "stdout",
     "output_type": "stream",
     "text": [
      " 59.638567 seconds (58.25 M allocations: 2.982 GiB, 1.32% gc time, 32.08% compilation time: 44% of which was recompilation)\n",
      "minimal points: [[-1.0, -1.0, 0.24999999999999994], [-1.0, 1.0, 0.24999999999999994], [1.0, -1.0, 0.24999999999999994], [1.0, 1.0, 0.24999999999999994]]\n",
      "result: (0.6366197723675815(4.000000000000001^n)) / n\n",
      "expect: (0.6366197723675814(4^n)) / n\n"
     ]
    }
   ],
   "source": [
    "H = 1 - (z*x^2*y^2 + z*x^2 + z*y^2 + z)\n",
    "@time MCP = find_min_crits(H; approx_crit=true)\n",
    "println(\"minimal points: \", MCP)\n",
    "\n",
    "asm = asymptotics((1+x)*(1+y), H, MCP)\n",
    "println(\"result: \", asm(n))\n",
    "println(\"expect: \", 2/π*(4^n/n))"
   ]
  },
  {
   "cell_type": "code",
   "execution_count": 14,
   "id": "6ba24d8d-3e20-4055-8461-c659892f627a",
   "metadata": {},
   "outputs": [
    {
     "name": "stdout",
     "output_type": "stream",
     "text": [
      " 57.388850 seconds (25.83 M allocations: 1.287 GiB, 1.12% gc time, 19.16% compilation time: 0% of which was recompilation)\n",
      "minimal points: [[1.0000000000000002, -1.0000000000000002, 0.16666666666666655], [1.0000000000000002, 1.0000000000000002, 0.16666666666666655]]\n",
      "result: (0.7796968012336765(6.000000000000002^n)) / n\n",
      "expect: (0.779696801233676(6^n)) / n\n"
     ]
    }
   ],
   "source": [
    "H = 1-(z*x^2*y^2 + z*x*y^2 + z*x^2 + z*y^2 + z*x + z)\n",
    "@time MCP = find_min_crits(H; approx_crit=true)\n",
    "println(\"minimal points: \", MCP)\n",
    "\n",
    "asm = asymptotics((1+x)*(1+y), H, MCP)\n",
    "println(\"result: \", asm(n))\n",
    "println(\"expect: \", sqrt(6)/π*(6^n/n))"
   ]
  },
  {
   "cell_type": "code",
   "execution_count": 15,
   "id": "2ca147ca-6dde-48a8-a0c0-b228fc571c00",
   "metadata": {},
   "outputs": [
    {
     "name": "stdout",
     "output_type": "stream",
     "text": [
      "130.062642 seconds (32.16 M allocations: 1.648 GiB, 0.51% gc time, 10.09% compilation time)\n",
      "minimal points: [[0.9999999999999998, 0.9999999999999998, 0.12500000000000008]]\n",
      "result: (0.8488263631567748(7.999999999999998^n)) / n\n",
      "expect: (0.8488263631567752(8^n)) / n\n"
     ]
    }
   ],
   "source": [
    "H = 1-(z*x^2*y^2 + z*x^2*y + z*x*y^2 + z*x^2 + z*y^2 + z*x + z*y + z)\n",
    "@time MCP = find_min_crits(H; approx_crit=true)\n",
    "println(\"minimal points: \", MCP)\n",
    "\n",
    "asm = asymptotics((1+x)*(1+y), H, MCP)\n",
    "println(\"result: \", asm(n))\n",
    "println(\"expect: \", 8/3π*(8^n/n))"
   ]
  },
  {
   "cell_type": "code",
   "execution_count": null,
   "id": "6d057f03-1eac-4e76-b490-fded3bf03ab2",
   "metadata": {},
   "outputs": [],
   "source": []
  }
 ],
 "metadata": {
  "kernelspec": {
   "display_name": "Julia 1.8.5",
   "language": "julia",
   "name": "julia-1.8"
  },
  "language_info": {
   "file_extension": ".jl",
   "mimetype": "application/julia",
   "name": "julia",
   "version": "1.8.5"
  }
 },
 "nbformat": 4,
 "nbformat_minor": 5
}
