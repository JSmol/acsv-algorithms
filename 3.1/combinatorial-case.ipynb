{
 "cells": [
  {
   "cell_type": "code",
   "execution_count": 1,
   "id": "6dc25357-2189-4c18-80dc-427323f1397f",
   "metadata": {},
   "outputs": [
    {
     "data": {
      "text/latex": [
       "$$ x^{2} + 41xy + 40y^{2} - 21x - 60y + 19 $$"
      ],
      "text/plain": [
       "x² + 41xy + 40y² - 21x - 60y + 19"
      ]
     },
     "execution_count": 1,
     "metadata": {},
     "output_type": "execute_result"
    }
   ],
   "source": [
    "using HomotopyContinuation\n",
    "using DynamicPolynomials\n",
    "@polyvar x y\n",
    "H = (1-x-y)*(20-x-40*y)-1"
   ]
  },
  {
   "cell_type": "code",
   "execution_count": 2,
   "id": "4c0ede21-53cd-4587-8e0a-630f3b09e28b",
   "metadata": {},
   "outputs": [
    {
     "data": {
      "text/plain": [
       "4-element Vector{Vector{ComplexF64}}:\n",
       " [0.4901 - 0.2808im, 0.5808 + 0.1624im, 3.5707 + 1.9223im]\n",
       " [0.5482 + 0.0im, 0.31 + 0.0im, -3.9442 + 0.0im]\n",
       " [0.4901 + 0.2808im, 0.5808 - 0.1624im, 3.5707 - 1.9223im]\n",
       " [9.9971 + 0.0im, 0.2528 + 0.0im, 93.5529 + 0.0im]"
      ]
     },
     "metadata": {},
     "output_type": "display_data"
    }
   ],
   "source": [
    "function critical_points(H, vars)\n",
    "    @polyvar λ\n",
    "    sys = System([H; vars .* differentiate(H, vars) .- λ])\n",
    "    sols = solutions(solve(sys; show_progress=false))\n",
    "    certs = certificates(certify(sys, sols))\n",
    "    # return certified solutions\n",
    "    return certs\n",
    "end\n",
    "C = critical_points(H, [x, y])\n",
    "display(map(sol -> round.(sol; digits=4), solution_approximation.(C)))"
   ]
  },
  {
   "cell_type": "code",
   "execution_count": 3,
   "id": "ed199843-a410-4cd3-8f50-470a46c3724f",
   "metadata": {},
   "outputs": [
    {
     "data": {
      "text/plain": [
       "2-element Vector{Vector{ComplexF64}}:\n",
       " [1.7099 + 0.0im, 0.5482 + 0.0im, 0.31 + 0.0im]\n",
       " [0.0922 + 0.0im, 9.9971 + 0.0im, 0.2528 + 0.0im]"
      ]
     },
     "metadata": {},
     "output_type": "display_data"
    }
   ],
   "source": [
    "function comb_case(H, vars, C)\n",
    "    @polyvar λ t s\n",
    "    sys = System([ # full comb-case system\n",
    "        H;\n",
    "        vars .* differentiate(H, vars) .- λ;\n",
    "        H(vars => t*vars);\n",
    "        s*(1-t) - 1\n",
    "    ], variables=[t; vars; λ; s])\n",
    "    real_sols = real_solutions(solve(sys; show_progress=false))\n",
    "    if length(real_sols) > 0\n",
    "        return certificates(certify(sys, real_sols))\n",
    "    else\n",
    "        return []\n",
    "    end\n",
    "end\n",
    "sols = comb_case(H, [x, y], C)\n",
    "display(map(sol -> round.(sol[1:3]; digits=4), solution_approximation.(sols)))"
   ]
  },
  {
   "cell_type": "code",
   "execution_count": 4,
   "id": "e8417548-79aa-48c7-bca4-0e5f890013dc",
   "metadata": {},
   "outputs": [
    {
     "data": {
      "text/plain": [
       "1-element Vector{Arblib.Arb}:\n",
       " [0.092185655233 +/- 4.51e-13]"
      ]
     },
     "metadata": {},
     "output_type": "display_data"
    }
   ],
   "source": [
    "intervals = certified_solution_interval.(sols)\n",
    "intervals = filter(I -> 0 < real(I[1]) < 1, intervals)\n",
    "display(map(I -> real(I[1]), intervals))"
   ]
  },
  {
   "cell_type": "markdown",
   "id": "c106fbe7-3319-461e-87a1-e7f14927d0fb",
   "metadata": {},
   "source": [
    "## non-crossing configurations\n",
    "*It is not clear whether these generating functions are combinatorial, however, they each have exactly one real positive critical point*"
   ]
  },
  {
   "cell_type": "code",
   "execution_count": 5,
   "id": "4fe0b2fc-de43-4ac3-9087-c9d6851f7725",
   "metadata": {},
   "outputs": [
    {
     "name": "stdout",
     "output_type": "stream",
     "text": [
      "CRITICAL POINTS:\n"
     ]
    },
    {
     "data": {
      "text/plain": [
       "2-element Vector{Vector{ComplexF64}}:\n",
       " [0.0303 + 0.0im, 2.8284 + 0.0im, 1.0 + 0.0im]\n",
       " [-1.0303 + 0.0im, -2.8284 + 0.0im, 1.0 + 0.0im]"
      ]
     },
     "metadata": {},
     "output_type": "display_data"
    },
    {
     "name": "stdout",
     "output_type": "stream",
     "text": [
      "COMB CASE SOLS:\n"
     ]
    },
    {
     "data": {
      "text/plain": [
       "2-element Vector{Vector{ComplexF64}}:\n",
       " [-0.0994 + 0.0im, -1.0303 + 0.0im, -2.8284 + 0.0im]\n",
       " [1.2207 + 0.0im, -1.0303 + 0.0im, -2.8284 + 0.0im]"
      ]
     },
     "metadata": {},
     "output_type": "display_data"
    }
   ],
   "source": [
    "H = (y^2*x + 6*y*x + 8*x - 1) # non-crossing graphs\n",
    "C = critical_points(H, [x, y])\n",
    "println(\"CRITICAL POINTS:\")\n",
    "display(map(sol -> round.(sol; digits=4), solution_approximation.(C)))\n",
    "sols = comb_case(H, [x, y], C)\n",
    "println(\"COMB CASE SOLS:\")\n",
    "display(map(sol -> round.(sol[1:3]; digits=4), solution_approximation.(sols)))"
   ]
  },
  {
   "cell_type": "code",
   "execution_count": 6,
   "id": "b4bbbc99-068a-47a1-84aa-2d599e974e4b",
   "metadata": {},
   "outputs": [
    {
     "name": "stdout",
     "output_type": "stream",
     "text": [
      "CRITICAL POINTS:\n"
     ]
    },
    {
     "data": {
      "text/plain": [
       "2-element Vector{Vector{ComplexF64}}:\n",
       " [0.0024 + 0.0im, -39.7846 + 0.0im, -2.6634 + 0.0im]\n",
       " [0.0539 + 0.0im, 1.7846 + 0.0im, 1.1423 + 0.0im]"
      ]
     },
     "metadata": {},
     "output_type": "display_data"
    }
   ],
   "source": [
    "H = (y^5*x^3 + 3*y^4*x^3 + 3*y^3*x^3 + 3*y^3*x^2 + y^2*x^3 + 6*y^2*x^2 + y^2*x + 3*y*x^2 + 5*y*x + 4*x - 1) # non-crossing connected graphs\n",
    "C = critical_points(H, [x, y])\n",
    "println(\"CRITICAL POINTS:\")\n",
    "display(map(sol -> round.(sol; digits=4), solution_approximation.(C)))"
   ]
  },
  {
   "cell_type": "code",
   "execution_count": 7,
   "id": "431989ad-f8ba-487b-8b9c-69dc920258ea",
   "metadata": {},
   "outputs": [
    {
     "name": "stdout",
     "output_type": "stream",
     "text": [
      "CRITICAL POINTS:\n"
     ]
    },
    {
     "data": {
      "text/plain": [
       "3-element Vector{Vector{ComplexF64}}:\n",
       " [-0.4389 + 0.0im, -7.7656 + 0.0im, -0.1267 + 0.0im]\n",
       " [0.3283 + 0.0im, -5.8792 + 0.0im, -0.3087 + 0.0im]\n",
       " [0.0043 + 0.0im, 28.1448 + 0.0im, 1.9436 + 0.0im]"
      ]
     },
     "metadata": {},
     "output_type": "display_data"
    }
   ],
   "source": [
    "H = (y^7*x^5 + 21*y^6*x^5 + 147*y^5*x^5 + 7*y^5*x^4 + 343*y^4*x^5 + 98*y^4*x^4 + 2*y^4*x^3 + 343*y^3*x^4 + 44*y^3*x^3 + 210*y^2*x^3 + 10*y^2*x^2 + 82*y*x^2 + 3*y*x + 33*x - 1) # non-crossing forests\n",
    "C = critical_points(H, [x, y])\n",
    "println(\"CRITICAL POINTS:\")\n",
    "display(map(sol -> round.(sol; digits=4), solution_approximation.(C)))"
   ]
  },
  {
   "cell_type": "code",
   "execution_count": 8,
   "id": "a366420a-5a11-4021-887f-4e6db701e3e2",
   "metadata": {},
   "outputs": [
    {
     "name": "stdout",
     "output_type": "stream",
     "text": [
      "CRITICAL POINTS:\n"
     ]
    },
    {
     "data": {
      "text/plain": [
       "1-element Vector{Vector{ComplexF64}}:\n",
       " [0.0114 + 0.0im, 13.0312 + 0.0im, 1.7482 + 0.0im]"
      ]
     },
     "metadata": {},
     "output_type": "display_data"
    }
   ],
   "source": [
    "H = (y^7*x^5 + 9*y^6*x^5 + 27*y^5*x^5 + 3*y^5*x^4 + 27*y^4*x^5 + 18*y^4*x^4 + 3*y^4*x^3 + 27*y^3*x^4 + 21*y^3*x^3 + 36*y^2*x^3 + 6*y^2*x^2 + 19*y*x^2 + 3*y*x + 12*x - 1) # non-crossing trees\n",
    "C = critical_points(H, [x, y])\n",
    "println(\"CRITICAL POINTS:\")\n",
    "display(map(sol -> round.(sol; digits=4), solution_approximation.(C)))"
   ]
  }
 ],
 "metadata": {
  "kernelspec": {
   "display_name": "Julia 1.8.5",
   "language": "julia",
   "name": "julia-1.8"
  },
  "language_info": {
   "file_extension": ".jl",
   "mimetype": "application/julia",
   "name": "julia",
   "version": "1.8.5"
  }
 },
 "nbformat": 4,
 "nbformat_minor": 5
}
