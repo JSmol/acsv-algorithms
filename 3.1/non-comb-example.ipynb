{
 "cells": [
  {
   "cell_type": "markdown",
   "id": "cc98b0be-55cc-4d2e-b8d8-79b520e40153",
   "metadata": {},
   "source": [
    "# non-combinatorial example"
   ]
  },
  {
   "cell_type": "code",
   "execution_count": 1,
   "id": "286ee9c1-8b39-4f58-aa59-ca63ad7279e9",
   "metadata": {},
   "outputs": [],
   "source": [
    "using DynamicPolynomials\n",
    "using HomotopyContinuation\n",
    "using Arblib"
   ]
  },
  {
   "cell_type": "code",
   "execution_count": 2,
   "id": "f50bd5e3-dad3-4ee8-9759-6d263bb16cea",
   "metadata": {},
   "outputs": [
    {
     "data": {
      "text/plain": [
       "(PolyVar{true}[w₁, w₂], PolyVar{true}[x₁, x₂], PolyVar{true}[y₁, y₂], PolyVar{true}[a₁, a₂], PolyVar{true}[b₁, b₂], λᴿ, λᴵ, s, t, ν, ν₁, ν₂)"
      ]
     },
     "execution_count": 2,
     "metadata": {},
     "output_type": "execute_result"
    }
   ],
   "source": [
    "@polyvar w[1:2] x[1:2] y[1:2] a[1:2] b[1:2] λᴿ λᴵ s t ν ν₁ ν₂"
   ]
  },
  {
   "cell_type": "code",
   "execution_count": 3,
   "id": "4a7a9ace-640d-4bec-9c9f-5d3f824691b1",
   "metadata": {},
   "outputs": [
    {
     "name": "stdout",
     "output_type": "stream",
     "text": [
      "\u001b[32mTracking 4 paths... 100%|███████████████████████████████| Time: 0:00:06\u001b[39m\n",
      "\u001b[34m  # paths tracked:                  4\u001b[39m\n",
      "\u001b[34m  # non-singular solutions (real):  4 (2)\u001b[39m\n",
      "\u001b[34m  # singular endpoints (real):      0 (0)\u001b[39m\n",
      "\u001b[34m  # total solutions (real):         4 (2)\u001b[39m\n"
     ]
    },
    {
     "data": {
      "text/plain": [
       "4-element Vector{Vector{ComplexF64}}:\n",
       " [0.49 - 0.281im, 0.581 + 0.162im]\n",
       " [0.49 + 0.281im, 0.581 - 0.162im]\n",
       " [0.548 + 0.0im, 0.31 + 0.0im]\n",
       " [9.997 + 0.0im, 0.253 + 0.0im]"
      ]
     },
     "metadata": {},
     "output_type": "display_data"
    }
   ],
   "source": [
    "H = (1-w[1]-w[2])*(20-w[1]-40*w[2])-1\n",
    "sys = System([H, w[1]*differentiate(H, w[1]) - w[2]*differentiate(H, w[2])])\n",
    "result = solve(sys)\n",
    "display(map(sol -> round.(sol; digits=3), solutions(result)))"
   ]
  },
  {
   "cell_type": "code",
   "execution_count": 4,
   "id": "e96f60c2-3522-4822-bdd8-26ffcc50b140",
   "metadata": {},
   "outputs": [
    {
     "data": {
      "text/plain": [
       "(a₁² + (41 + 0im)a₁a₂ + (40 + 0im)a₂² + -b₁² + (-41 + 0im)b₁b₂ + (-40 + 0im)b₂² + (-21 + 0im)a₁ + (-60 + 0im)a₂ + (19 + 0im), (2 + 0im)a₁b₁ + (41 + 0im)a₁b₂ + (41 + 0im)a₂b₁ + (80 + 0im)a₂b₂ + (-21 + 0im)b₁ + (-60 + 0im)b₂)"
      ]
     },
     "execution_count": 4,
     "metadata": {},
     "output_type": "execute_result"
    }
   ],
   "source": [
    "# for convenience we first write H = u(a, b) + iv(a, b)\n",
    "@polyvar I\n",
    "u = sum(filter(t -> iseven(degree(t, I)), terms(H(w => a + I.*b))))\n",
    "v = sum(filter(t -> isodd(degree(t, I)), terms(H(w => a + I.*b))))\n",
    "u, v = subs(u, I => im), -im*subs(v, I => im)"
   ]
  },
  {
   "cell_type": "code",
   "execution_count": 5,
   "id": "745418c8-4ab9-43e4-b993-64cc646a9cfe",
   "metadata": {},
   "outputs": [
    {
     "data": {
      "text/plain": [
       "2-element Vector{System}:\n",
       " System of length 13\n",
       " 13 variables: x₁, x₂, y₁, y₂, a₁, a₂, b₁, b₂, λᴿ, λᴵ, s, t, ν\n",
       "\n",
       " 19 - 21*a₁ - 60*a₂ + 41*a₁*a₂ - 41*b₂*b₁ + a₁^2 + 40*a₂^2 - b₁^2 - 40*b₂^2\n",
       " -21*b₁ - 60*b₂ + 2*b₁*a₁ + 41*b₁*a₂ + 41*b₂*a₁ + 80*b₂*a₂\n",
       " -21*a₁ - λᴿ + 41*a₁*a₂ - 41*b₂*b₁ + 2*a₁^2 - 2*b₁^2\n",
       " -60*a₂ - λᴿ + 41*a₁*a₂ - 41*b₂*b₁ + 80*a₂^2 - 80*b₂^2\n",
       " -21*b₁ - λᴵ + 4*b₁*a₁ + 41*b₁*a₂ + 41*b₂*a₁\n",
       " -60*b₂ - λᴵ + 41*b₁*a₂ + 41*b₂*a₁ + 160*b₂*a₂\n",
       " 19 - 21*x₁ - 60*x₂ + 41*x₂*x₁ - 41*y₁*y₂ + x₁^2 + 40*x₂^2 - y₁^2 - 40*y₂^2\n",
       " -21*y₁ - 60*y₂ + 2*y₁*x₁ + 41*y₁*x₂ + 41*y₂*x₁ + 80*y₂*x₂\n",
       " -t*a₁^2 - t*b₁^2 + x₁^2 + y₁^2\n",
       " -t*a₂^2 - t*b₂^2 + x₂^2 + y₂^2\n",
       " -1 + s - s*t\n",
       " -21*y₁ + 4*y₁*x₁ + 41*y₁*x₂ + 41*y₂*x₁ + 21*ν*x₁ - 2*ν*x₁^2 + 2*ν*y₁^2 - 41*ν*x₂*x₁ + 41*ν*y₁*y₂\n",
       " -60*y₂ + 41*y₁*x₂ + 41*y₂*x₁ + 160*y₂*x₂ + 60*ν*x₂ - 80*ν*x₂^2 + 80*ν*y₂^2 - 41*ν*x₂*x₁ + 41*ν*y₁*y₂\n",
       " System of length 12\n",
       " 12 variables: x₁, x₂, y₁, y₂, a₁, a₂, b₁, b₂, λᴿ, λᴵ, s, t\n",
       "\n",
       " 19 - 21*a₁ - 60*a₂ + 41*a₁*a₂ - 41*b₂*b₁ + a₁^2 + 40*a₂^2 - b₁^2 - 40*b₂^2\n",
       " -21*b₁ - 60*b₂ + 2*b₁*a₁ + 41*b₁*a₂ + 41*b₂*a₁ + 80*b₂*a₂\n",
       " -21*a₁ - λᴿ + 41*a₁*a₂ - 41*b₂*b₁ + 2*a₁^2 - 2*b₁^2\n",
       " -60*a₂ - λᴿ + 41*a₁*a₂ - 41*b₂*b₁ + 80*a₂^2 - 80*b₂^2\n",
       " -21*b₁ - λᴵ + 4*b₁*a₁ + 41*b₁*a₂ + 41*b₂*a₁\n",
       " -60*b₂ - λᴵ + 41*b₁*a₂ + 41*b₂*a₁ + 160*b₂*a₂\n",
       " 19 - 21*x₁ - 60*x₂ + 41*x₂*x₁ - 41*y₁*y₂ + x₁^2 + 40*x₂^2 - y₁^2 - 40*y₂^2\n",
       " -21*y₁ - 60*y₂ + 2*y₁*x₁ + 41*y₁*x₂ + 41*y₂*x₁ + 80*y₂*x₂\n",
       " -t*a₁^2 - t*b₁^2 + x₁^2 + y₁^2\n",
       " -t*a₂^2 - t*b₂^2 + x₂^2 + y₂^2\n",
       " -1 + s - s*t\n",
       " 21*x₁ - 41*x₂*x₁ + 41*y₁*y₂ - 2*x₁^2 + 2*y₁^2"
      ]
     },
     "execution_count": 5,
     "metadata": {},
     "output_type": "execute_result"
    }
   ],
   "source": [
    "# critical equations in variables a, b, λᴿ λᴵ after splitting\n",
    "criteqs = [ u; v; a.*differentiate(u, a) + b.*differentiate(u, b) .- λᴿ;\n",
    "                  a.*differentiate(v, a) + b.*differentiate(v, b) .- λᴵ ]\n",
    "# minimality equations in variables x, y, a, b, t\n",
    "circeqs = [u([a; b] => [x; y]); v([a; b] => [x; y]); x.^2 + y.^2 - t.*(a.^2 + b.^2)]\n",
    "# balance equations\n",
    "J2eqs = (ν₁.*y - ν₂.*x) .* differentiate(u([a; b] => [x; y]), x) - \n",
    "        (ν₁.*x + ν₂.*y) .* differentiate(u([a; b] => [x; y]), y)\n",
    "# # there are two systems to solve depending on the value of ν₁\n",
    "extended_systems = [\n",
    "    System([criteqs; circeqs; s*(1-t) - 1; subs(J2eqs, [ν₁, ν₂] => [1, ν])]),\n",
    "    System([criteqs; circeqs; s*(1-t) - 1; subs(J2eqs[1], [ν₁, ν₂] => [0, 1])])\n",
    "]"
   ]
  },
  {
   "cell_type": "code",
   "execution_count": 6,
   "id": "88050bd0-31fd-42f1-adbe-8be773db7f5c",
   "metadata": {
    "tags": []
   },
   "outputs": [
    {
     "name": "stdout",
     "output_type": "stream",
     "text": [
      "\u001b[32mTracking 256 paths... 100%|█████████████████████████████| Time: 0:00:02\u001b[39m\n",
      "\u001b[34m  # paths tracked:                  256\u001b[39m\n",
      "\u001b[34m  # non-singular solutions (real):  256 (16)\u001b[39m\n",
      "\u001b[34m  # singular endpoints (real):      0 (0)\u001b[39m\n",
      "\u001b[34m  # total solutions (real):         256 (16)\u001b[39m\n"
     ]
    },
    {
     "data": {
      "text/plain": [
       "32-element Vector{Vector{Float64}}:\n",
       " [0.4901, 0.5808, -0.2808, 0.1624, 1.0421]\n",
       " [0.4901, 0.5808, -0.2808, 0.1624, 0.4167]\n",
       " [0.4901, 0.5808, 0.2808, -0.1624, 1.0421]\n",
       " [0.4901, 0.5808, 0.2808, -0.1624, 0.4167]\n",
       " [0.4901, 0.5808, -0.2808, 0.1624, 0.6483]\n",
       " [0.4901, 0.5808, -0.2808, 0.1624, 688.0156]\n",
       " [0.4901, 0.5808, 0.2808, -0.1624, 0.6483]\n",
       " [0.4901, 0.5808, 0.2808, -0.1624, 688.0156]\n",
       " [9.9971, 0.2528, 0.0, 0.0, 30837.2464]\n",
       " [0.5482, 0.31, -0.0, -0.0, 2.4615]\n",
       " [0.5482, 0.31, 0.0, 0.0, 2.4615]\n",
       " [9.9971, 0.2528, -0.0, 0.0, 0.0095]\n",
       " [9.9971, 0.2528, 0.0, -0.0, 0.0085]\n",
       " ⋮\n",
       " [0.4901, 0.5808, -0.2808, 0.1624, 353.5263]\n",
       " [0.4901, 0.5808, -0.2808, 0.1624, 353.5263]\n",
       " [9.9971, 0.2528, 0.0, -0.0, 15588.2686]\n",
       " [0.4901, 0.5808, -0.2808, 0.1624, 0.5708]\n",
       " [0.4901, 0.5808, 0.2808, -0.1624, 0.5708]\n",
       " [0.5482, 0.31, -0.0, 0.0, 2.1184]\n",
       " [0.5482, 0.31, 0.0, 0.0, 4.9931]\n",
       " [0.5482, 0.31, 0.0, 0.0, 4.9931]\n",
       " [0.5482, 0.31, -0.0, 0.0, 2.1184]\n",
       " [0.4901, 0.5808, 0.2808, -0.1624, 0.5708]\n",
       " [0.4901, 0.5808, 0.2808, -0.1624, 353.5263]\n",
       " [0.4901, 0.5808, 0.2808, -0.1624, 353.5263]"
      ]
     },
     "metadata": {},
     "output_type": "display_data"
    }
   ],
   "source": [
    "# the output solutions have form (a, b, t), only the real solutions are important\n",
    "sols1 = real_solutions(solve(extended_systems[1]))\n",
    "sols2 = real_solutions(solve(extended_systems[2]))\n",
    "display(map(sol -> round.([sol[5:8]; sol[12]]; digits=4), [sols1; sols2]))"
   ]
  },
  {
   "cell_type": "markdown",
   "id": "1a923800-3ff1-4e46-90fd-2093cd4f2a84",
   "metadata": {},
   "source": [
    "## non-minimal points have $t \\in (0, 1)$"
   ]
  },
  {
   "cell_type": "code",
   "execution_count": 7,
   "id": "c20970b0-9c13-4a95-a76c-d40c3239ee31",
   "metadata": {},
   "outputs": [
    {
     "data": {
      "text/plain": [
       "10-element Vector{Vector{Arf}}:\n",
       " [0.49014901612649492, 0.58080333252729643, -0.28079160650357421, 0.16235478163384354, 0.41668698409890453]\n",
       " [0.49014901612649492, 0.58080333252729643, 0.28079160650357421, -0.16235478163384354, 0.41668698409890453]\n",
       " [0.49014901612649492, 0.58080333252729643, -0.28079160650357421, 0.16235478163384354, 0.64831209216753949]\n",
       " [0.49014901612649492, 0.58080333252729643, 0.28079160650357421, -0.16235478163384354, 0.64831209216753949]\n",
       " [9.9971105198210228, 0.25277497316471748, 0.0, 0.0, 0.0095053500541154093]\n",
       " [9.9971105198210228, 0.25277497316471748, 0.0, 0.0, 0.0084981950306754674]\n",
       " [0.49014901612649492, 0.58080333252729643, -0.28079160650357421, 0.16235478163384354, 0.57081777457152494]\n",
       " [0.49014901612649492, 0.58080333252729643, -0.28079160650357421, 0.16235478163384354, 0.57081777457152494]\n",
       " [0.49014901612649492, 0.58080333252729643, 0.28079160650357421, -0.16235478163384354, 0.57081777457152494]\n",
       " [0.49014901612649492, 0.58080333252729643, 0.28079160650357421, -0.16235478163384354, 0.57081777457152494]"
      ]
     },
     "metadata": {},
     "output_type": "display_data"
    }
   ],
   "source": [
    "certs1 = certificates(certify(extended_systems[1], sols1))\n",
    "certs2 = certificates(certify(extended_systems[2], sols2))\n",
    "intervals = [certified_solution_interval.(certs1); certified_solution_interval.(certs2)]\n",
    "filtered = filter(I -> 0 < real(I[12]) < 1, intervals)\n",
    "filtered = map(I -> midpoint.(real.(I)), filtered)\n",
    "display(map(I -> [I[5:8]; I[12]], filtered))"
   ]
  },
  {
   "cell_type": "code",
   "execution_count": null,
   "id": "6161e9f3-dfbe-41e9-a0a9-50cdec146ef5",
   "metadata": {},
   "outputs": [],
   "source": []
  }
 ],
 "metadata": {
  "kernelspec": {
   "display_name": "Julia 1.8.5",
   "language": "julia",
   "name": "julia-1.8"
  },
  "language_info": {
   "file_extension": ".jl",
   "mimetype": "application/julia",
   "name": "julia",
   "version": "1.8.5"
  }
 },
 "nbformat": 4,
 "nbformat_minor": 5
}
