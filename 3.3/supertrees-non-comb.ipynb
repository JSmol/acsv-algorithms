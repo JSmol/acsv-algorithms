{
 "cells": [
  {
   "cell_type": "markdown",
   "id": "628a9844-9beb-4d68-8e0d-914282f878fb",
   "metadata": {},
   "source": [
    "## Supertrees do not satisfy (J1)"
   ]
  },
  {
   "cell_type": "code",
   "execution_count": 1,
   "id": "6dc25357-2189-4c18-80dc-427323f1397f",
   "metadata": {},
   "outputs": [
    {
     "data": {
      "text/latex": [
       "$$ z^{5}w^{2} - 2z^{3}w + 2z^{2}w + z + 4w - 2 $$"
      ],
      "text/plain": [
       "z⁵w² - 2z³w + 2z²w + z + 4w - 2"
      ]
     },
     "execution_count": 1,
     "metadata": {},
     "output_type": "execute_result"
    }
   ],
   "source": [
    "using HomotopyContinuation\n",
    "using DynamicPolynomials\n",
    "@polyvar z w x[1:2] y[1:2] a[1:2] b[1:2] λᴿ λᴵ t s ν ν₁ ν₂\n",
    "H = z^5*w^2 + 2*z^2*w - 2*z^3*w + 4*w + z - 2"
   ]
  },
  {
   "cell_type": "code",
   "execution_count": 2,
   "id": "4c0ede21-53cd-4587-8e0a-630f3b09e28b",
   "metadata": {},
   "outputs": [
    {
     "name": "stdout",
     "output_type": "stream",
     "text": [
      "\u001b[32mTracking 7 paths... 100%|███████████████████████████████| Time: 0:00:07\u001b[39m\n",
      "\u001b[34m  # paths tracked:                  7\u001b[39m\n",
      "\u001b[34m  # non-singular solutions (real):  2 (2)\u001b[39m\n",
      "\u001b[34m  # singular endpoints (real):      3 (3)\u001b[39m\n",
      "\u001b[34m  # total solutions (real):         5 (5)\u001b[39m\n"
     ]
    },
    {
     "data": {
      "text/plain": [
       "2-element Vector{Vector{ComplexF64}}:\n",
       " [-1.236 + 0.0im, 0.327 + 0.0im]\n",
       " [3.236 + 0.0im, 0.048 + 0.0im]"
      ]
     },
     "metadata": {},
     "output_type": "display_data"
    },
    {
     "name": "stdout",
     "output_type": "stream",
     "text": [
      "\n"
     ]
    }
   ],
   "source": [
    "# H: denominator\n",
    "function critical_points(H)\n",
    "    sys = System([H; w*differentiate(H, w) - z*differentiate(H, z)])\n",
    "    sols = solutions(solve(sys))\n",
    "    certs = certificates(certify(sys, sols))\n",
    "    display(map(sol -> round.(sol; digits=3), solution_approximation.(certs)))\n",
    "    return certs\n",
    "end\n",
    "C = critical_points(H)\n",
    "println()"
   ]
  },
  {
   "cell_type": "code",
   "execution_count": 3,
   "id": "ed199843-a410-4cd3-8f50-470a46c3724f",
   "metadata": {},
   "outputs": [
    {
     "name": "stdout",
     "output_type": "stream",
     "text": [
      "\u001b[32mTracking 57122 paths... 100%|███████████████████████████| Time: 0:21:42\u001b[39m\n",
      "\u001b[34m  # paths tracked:                  57122\u001b[39m\n",
      "\u001b[34m  # non-singular solutions (real):  280 (6)\u001b[39m\n",
      "\u001b[34m  # singular endpoints (real):      1469 (36)\u001b[39m\n",
      "\u001b[34m  # total solutions (real):         1749 (42)\u001b[39m\n"
     ]
    },
    {
     "data": {
      "text/plain": [
       "6-element Vector{Vector{ComplexF64}}:\n",
       " [-1.2361 + 0.0im, 0.3273 + 0.0im, 0.0 + 0.0im, 0.0 + 0.0im, 2.4894 + 0.0im, 2.9271 + 0.0im, 0.0 + 0.0im]\n",
       " [-1.2361 + 0.0im, 0.3273 + 0.0im, 0.0 + 0.0im, 0.0 + 0.0im, 2.4894 + 0.0im, 2.9271 + 0.0im, 0.0 + 0.0im]\n",
       " [-1.2361 + 0.0im, 0.3273 + 0.0im, 0.0 + 0.0im, 0.0 + 0.0im, 1.6245 + 0.0im, 2.9271 + 0.0im, 0.0 + 0.0im]\n",
       " [-1.2361 + 0.0im, 0.3273 + 0.0im, 0.0 + 0.0im, 0.0 + 0.0im, 1.6245 + 0.0im, 2.9271 + 0.0im, 0.0 + 0.0im]\n",
       " [-1.2361 + 0.0im, 0.3273 + 0.0im, 0.0 + 0.0im, 0.0 + 0.0im, 2.2819 + 0.0im, 2.9271 + 0.0im, 0.0 + 0.0im]\n",
       " [-1.2361 + 0.0im, 0.3273 + 0.0im, 0.0 + 0.0im, 0.0 + 0.0im, 2.2819 + 0.0im, 2.9271 + 0.0im, 0.0 + 0.0im]"
      ]
     },
     "metadata": {},
     "output_type": "display_data"
    },
    {
     "name": "stdout",
     "output_type": "stream",
     "text": [
      "\n",
      "\n"
     ]
    }
   ],
   "source": [
    "# split H(vars) = u(a, b) + iv(a, b)\n",
    "function split(H, vars)\n",
    "    @polyvar I\n",
    "    u = sum(filter(t -> iseven(degree(t, I)), terms(H(vars => a + I.*b))))\n",
    "    v = sum(filter(t -> isodd(degree(t, I)), terms(H(vars => a + I.*b))))\n",
    "    return u, v = subs(u, I => im), -im*subs(v, I => im)\n",
    "end\n",
    "\n",
    "# H: demoninator, C: critical points\n",
    "function non_comb_system(H, C)\n",
    "    u, v = split(H, [z, w])\n",
    "    criteqs = [ u; v; a.*differentiate(u, a) + b.*differentiate(u, b) .- λᴿ;\n",
    "                      a.*differentiate(v, a) + b.*differentiate(v, b) .- λᴵ ]\n",
    "    circeqs = [u([a; b] => [x; y]); v([a; b] => [x; y]); x.^2 + y.^2 - t.*(a.^2 + b.^2)]\n",
    "    J2eqs = (ν₁.*y - ν₂.*x) .* differentiate(u([a; b] => [x; y]), x) - \n",
    "            (ν₁.*x + ν₂.*y) .* differentiate(u([a; b] => [x; y]), y)\n",
    "    extended_systems = [\n",
    "        System([criteqs; circeqs; s*(1-t) - 1; subs(J2eqs, [ν₁, ν₂] => [1, ν])],\n",
    "            variables=[a; b; t; λᴿ; λᴵ; x; y; s; ν]),\n",
    "        System([criteqs; circeqs; s*(1-t) - 1; subs(J2eqs[1], [ν₁, ν₂] => [0, 1])],\n",
    "            variables=[a; b; t; λᴿ; λᴵ; x; y; s])\n",
    "    ]\n",
    "    \n",
    "    for j in 1:2\n",
    "        sols = solutions(solve(extended_systems[j]; show_progress=true))\n",
    "        certs = certificates(certify(extended_systems[j], sols))\n",
    "        certified_real = filter(is_real, certs)\n",
    "        display(map(sol -> round.(sol[1:7]; digits=4), solution_approximation.(certified_real)))\n",
    "        println()\n",
    "    end\n",
    "end\n",
    "certs = non_comb_system(H, C)\n",
    "println()"
   ]
  },
  {
   "cell_type": "code",
   "execution_count": 4,
   "id": "5c16d033-e9bb-461c-88af-1eeffd4c343a",
   "metadata": {},
   "outputs": [
    {
     "data": {
      "text/plain": [
       "2×2 Matrix{Polynomial{true, Float64}}:\n",
       " 0.25  4.0\n",
       " 0.25  4.0"
      ]
     },
     "execution_count": 4,
     "metadata": {},
     "output_type": "execute_result"
    }
   ],
   "source": [
    "# (J1) is not satisfied.\n",
    "sys = [H; w*differentiate(H, w) - z*differentiate(H, z)]\n",
    "subs(differentiate(sys, [z, w]), [z, w] => [2, 1/8])"
   ]
  },
  {
   "cell_type": "code",
   "execution_count": null,
   "id": "48d46619-0f0f-437b-b558-58b11d34cbec",
   "metadata": {},
   "outputs": [],
   "source": []
  }
 ],
 "metadata": {
  "kernelspec": {
   "display_name": "Julia 1.8.5",
   "language": "julia",
   "name": "julia-1.8"
  },
  "language_info": {
   "file_extension": ".jl",
   "mimetype": "application/julia",
   "name": "julia",
   "version": "1.8.5"
  }
 },
 "nbformat": 4,
 "nbformat_minor": 5
}
